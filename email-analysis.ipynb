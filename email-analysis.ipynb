{
 "cells": [
  {
   "cell_type": "markdown",
   "metadata": {},
   "source": [
    "## PySpark \n",
    "For PySpark, enter your Python code in the cell below. You can run the cell by hitting \"Run\" from the above toolbar. Example Python code: <br>\n"
   ]
  },
  {
   "cell_type": "code",
   "execution_count": null,
   "metadata": {},
   "outputs": [],
   "source": [
    "print(\"hello world\")"
   ]
  },
  {
   "cell_type": "markdown",
   "metadata": {},
   "source": [
    "## Spark SQL\n",
    "Enter %%sql in the first line and your SQL query in subsquent lines. You can run the query by hitting \"Run\" from the above toolbar. Example SQL query (you will need to replace &lt;database&gt; and &lt;table&gt; with your specific database and table): <br>\n"
   ]
  },
  {
   "cell_type": "code",
   "execution_count": null,
   "metadata": {},
   "outputs": [],
   "source": [
    "%%sql\n",
    "SELECT count(*) from <database>.<table>"
   ]
  },
  {
   "cell_type": "code",
   "execution_count": 1,
   "metadata": {},
   "outputs": [
    {
     "name": "stdout",
     "output_type": "stream",
     "text": [
      "Calculation started (calculation_id=64c80bf0-d5dd-ff95-1494-ae43ebdcd879) in (session=a8c80bf0-b6fb-acbb-d90f-800f58a0639c). Checking calculation status...\n"
     ]
    },
    {
     "data": {
      "application/vnd.jupyter.widget-view+json": {
       "model_id": "10d5fef4d42c49b3bdade91c5ee64b8b",
       "version_major": 2,
       "version_minor": 0
      },
      "text/plain": [
       "Progress:   0%|          |elapsed time = 00:00s"
      ]
     },
     "metadata": {},
     "output_type": "display_data"
    },
    {
     "name": "stdout",
     "output_type": "stream",
     "text": [
      "Calculation completed.\n"
     ]
    }
   ],
   "source": [
    "from pyspark.sql.functions import input_file_name, substring,concat_ws, lit,col,concat, explode,regexp_extract,split\n",
    "from pyspark.sql.functions import count, countDistinct, coalesce\n",
    "from pyspark.sql.types import StructType, StructField, StringType, IntegerType, DoubleType"
   ]
  },
  {
   "cell_type": "code",
   "execution_count": 2,
   "metadata": {},
   "outputs": [
    {
     "name": "stdout",
     "output_type": "stream",
     "text": [
      "Calculation started (calculation_id=b6c80bf0-e186-0d68-06b4-2746e62df8cd) in (session=a8c80bf0-b6fb-acbb-d90f-800f58a0639c). Checking calculation status...\n"
     ]
    },
    {
     "data": {
      "application/vnd.jupyter.widget-view+json": {
       "model_id": "537c9b6690834745854a487a699db41c",
       "version_major": 2,
       "version_minor": 0
      },
      "text/plain": [
       "Progress:   0%|          |elapsed time = 00:00s"
      ]
     },
     "metadata": {},
     "output_type": "display_data"
    },
    {
     "name": "stdout",
     "output_type": "stream",
     "text": [
      "Calculation completed.\n"
     ]
    }
   ],
   "source": [
    "input_df = spark.read.json(f\"s3://aws-pinpoint-magictavern-firehose/2024/*/*/*/*\")"
   ]
  },
  {
   "cell_type": "code",
   "execution_count": 3,
   "metadata": {},
   "outputs": [
    {
     "name": "stdout",
     "output_type": "stream",
     "text": [
      "Calculation started (calculation_id=06c80bf1-6f5d-75a1-b06b-d1a30d870987) in (session=a8c80bf0-b6fb-acbb-d90f-800f58a0639c). Checking calculation status...\n"
     ]
    },
    {
     "data": {
      "application/vnd.jupyter.widget-view+json": {
       "model_id": "b085dd3a56b447f8a356224765f86391",
       "version_major": 2,
       "version_minor": 0
      },
      "text/plain": [
       "Progress:   0%|          |elapsed time = 00:00s"
      ]
     },
     "metadata": {},
     "output_type": "display_data"
    },
    {
     "name": "stdout",
     "output_type": "stream",
     "text": [
      "Calculation completed.\n"
     ]
    }
   ],
   "source": [
    "from pyspark.sql.functions import input_file_name, regexp_extract\n",
    "# �Ich�!\n",
    "pattern = r\"(\\d{4})/(\\d{2})/(\\d{2})/(\\d{2})\"\n",
    "\n",
    "# (ch���t�\n",
    "df_with_date = input_df.withColumn(\"year\", regexp_extract(input_file_name(), pattern, 1))\n",
    "df_with_date = df_with_date.withColumn(\"month\", regexp_extract(input_file_name(), pattern, 2))\n",
    "df_with_date = df_with_date.withColumn(\"day\", regexp_extract(input_file_name(), pattern, 3))"
   ]
  },
  {
   "cell_type": "code",
   "execution_count": 4,
   "metadata": {},
   "outputs": [
    {
     "name": "stdout",
     "output_type": "stream",
     "text": [
      "Calculation started (calculation_id=8cc80bf1-74b1-b461-c3fe-65e745a575ec) in (session=a8c80bf0-b6fb-acbb-d90f-800f58a0639c). Checking calculation status...\n"
     ]
    },
    {
     "data": {
      "application/vnd.jupyter.widget-view+json": {
       "model_id": "31ba7cd4dd964cce9d55b1ba73528371",
       "version_major": 2,
       "version_minor": 0
      },
      "text/plain": [
       "Progress:   0%|          |elapsed time = 00:00s"
      ]
     },
     "metadata": {},
     "output_type": "display_data"
    },
    {
     "name": "stdout",
     "output_type": "stream",
     "text": [
      "Calculation completed.\n"
     ]
    }
   ],
   "source": [
    "filtered_withdate_df = df_with_date.where((col(\"month\") == 6) | ((col(\"day\") >= 23) & (col(\"month\") == 5)))\n",
    "# �Ӝ"
   ]
  },
  {
   "cell_type": "code",
   "execution_count": 10,
   "metadata": {},
   "outputs": [
    {
     "name": "stdout",
     "output_type": "stream",
     "text": [
      "Calculation started (calculation_id=70c8093a-1420-09c9-1169-7749af2a864b) in (session=72c80932-8c45-57c3-d1ee-1d3e65ebd864). Checking calculation status...\n"
     ]
    },
    {
     "data": {
      "application/vnd.jupyter.widget-view+json": {
       "model_id": "fa5f06ea9b3b42aea531d77df6a04cd2",
       "version_major": 2,
       "version_minor": 0
      },
      "text/plain": [
       "Progress:   0%|          |elapsed time = 00:00s"
      ]
     },
     "metadata": {},
     "output_type": "display_data"
    },
    {
     "name": "stdout",
     "output_type": "stream",
     "text": [
      "Calculation completed.\n",
      "+----+-----+---+\n",
      "|year|month|day|\n",
      "+----+-----+---+\n",
      "|2024|05   |23 |\n",
      "|2024|05   |24 |\n",
      "|2024|05   |25 |\n",
      "|2024|05   |26 |\n",
      "|2024|05   |27 |\n",
      "|2024|05   |28 |\n",
      "|2024|05   |29 |\n",
      "|2024|05   |30 |\n",
      "|2024|05   |31 |\n",
      "|2024|06   |01 |\n",
      "|2024|06   |02 |\n",
      "|2024|06   |03 |\n",
      "|2024|06   |04 |\n",
      "|2024|06   |05 |\n",
      "|2024|06   |06 |\n",
      "|2024|06   |07 |\n",
      "|2024|06   |08 |\n",
      "|2024|06   |09 |\n",
      "|2024|06   |10 |\n",
      "|2024|06   |11 |\n",
      "|2024|06   |12 |\n",
      "|2024|06   |13 |\n",
      "+----+-----+---+\n",
      "\n"
     ]
    }
   ],
   "source": [
    "filtered_withdate_df.select(\"year\", \"month\", \"day\").distinct().orderBy(\"month\",\"day\").show(100,truncate=False)"
   ]
  },
  {
   "cell_type": "code",
   "execution_count": 11,
   "metadata": {},
   "outputs": [
    {
     "name": "stdout",
     "output_type": "stream",
     "text": [
      "Calculation started (calculation_id=dec8093a-5eed-9980-e3eb-9c56c7c950f0) in (session=72c80932-8c45-57c3-d1ee-1d3e65ebd864). Checking calculation status...\n"
     ]
    },
    {
     "data": {
      "application/vnd.jupyter.widget-view+json": {
       "model_id": "c865380b93c94cc49a08b2160feef863",
       "version_major": 2,
       "version_minor": 0
      },
      "text/plain": [
       "Progress:   0%|          |elapsed time = 00:00s"
      ]
     },
     "metadata": {},
     "output_type": "display_data"
    },
    {
     "name": "stdout",
     "output_type": "stream",
     "text": [
      "Calculation completed.\n",
      "root\n",
      " |-- bounce: struct (nullable = true)\n",
      " |    |-- bounceSubType: string (nullable = true)\n",
      " |    |-- bounceType: string (nullable = true)\n",
      " |    |-- bouncedRecipients: array (nullable = true)\n",
      " |    |    |-- element: struct (containsNull = true)\n",
      " |    |    |    |-- action: string (nullable = true)\n",
      " |    |    |    |-- diagnosticCode: string (nullable = true)\n",
      " |    |    |    |-- emailAddress: string (nullable = true)\n",
      " |    |    |    |-- status: string (nullable = true)\n",
      " |    |-- feedbackId: string (nullable = true)\n",
      " |    |-- reportingMTA: string (nullable = true)\n",
      " |    |-- timestamp: string (nullable = true)\n",
      " |-- click: struct (nullable = true)\n",
      " |    |-- ipAddress: string (nullable = true)\n",
      " |    |-- link: string (nullable = true)\n",
      " |    |-- linkTags: string (nullable = true)\n",
      " |    |-- timestamp: string (nullable = true)\n",
      " |    |-- userAgent: string (nullable = true)\n",
      " |-- complaint: struct (nullable = true)\n",
      " |    |-- arrivalDate: string (nullable = true)\n",
      " |    |-- complainedRecipients: array (nullable = true)\n",
      " |    |    |-- element: struct (containsNull = true)\n",
      " |    |    |    |-- emailAddress: string (nullable = true)\n",
      " |    |-- complaintFeedbackType: string (nullable = true)\n",
      " |    |-- complaintSubType: string (nullable = true)\n",
      " |    |-- feedbackId: string (nullable = true)\n",
      " |    |-- timestamp: string (nullable = true)\n",
      " |    |-- userAgent: string (nullable = true)\n",
      " |-- delivery: struct (nullable = true)\n",
      " |    |-- processingTimeMillis: long (nullable = true)\n",
      " |    |-- recipients: array (nullable = true)\n",
      " |    |    |-- element: string (containsNull = true)\n",
      " |    |-- reportingMTA: string (nullable = true)\n",
      " |    |-- smtpResponse: string (nullable = true)\n",
      " |    |-- timestamp: string (nullable = true)\n",
      " |-- eventType: string (nullable = true)\n",
      " |-- failure: struct (nullable = true)\n",
      " |    |-- errorMessage: string (nullable = true)\n",
      " |    |-- templateName: string (nullable = true)\n",
      " |-- mail: struct (nullable = true)\n",
      " |    |-- commonHeaders: struct (nullable = true)\n",
      " |    |    |-- date: string (nullable = true)\n",
      " |    |    |-- from: array (nullable = true)\n",
      " |    |    |    |-- element: string (containsNull = true)\n",
      " |    |    |-- messageId: string (nullable = true)\n",
      " |    |    |-- subject: string (nullable = true)\n",
      " |    |    |-- to: array (nullable = true)\n",
      " |    |    |    |-- element: string (containsNull = true)\n",
      " |    |-- destination: array (nullable = true)\n",
      " |    |    |-- element: string (containsNull = true)\n",
      " |    |-- headers: array (nullable = true)\n",
      " |    |    |-- element: struct (containsNull = true)\n",
      " |    |    |    |-- name: string (nullable = true)\n",
      " |    |    |    |-- value: string (nullable = true)\n",
      " |    |-- headersTruncated: boolean (nullable = true)\n",
      " |    |-- messageId: string (nullable = true)\n",
      " |    |-- sendingAccountId: string (nullable = true)\n",
      " |    |-- source: string (nullable = true)\n",
      " |    |-- sourceArn: string (nullable = true)\n",
      " |    |-- tags: struct (nullable = true)\n",
      " |    |    |-- compaignid: array (nullable = true)\n",
      " |    |    |    |-- element: string (containsNull = true)\n",
      " |    |    |-- ses:caller-identity: array (nullable = true)\n",
      " |    |    |    |-- element: string (containsNull = true)\n",
      " |    |    |-- ses:configuration-set: array (nullable = true)\n",
      " |    |    |    |-- element: string (containsNull = true)\n",
      " |    |    |-- ses:from-domain: array (nullable = true)\n",
      " |    |    |    |-- element: string (containsNull = true)\n",
      " |    |    |-- ses:operation: array (nullable = true)\n",
      " |    |    |    |-- element: string (containsNull = true)\n",
      " |    |    |-- ses:outgoing-ip: array (nullable = true)\n",
      " |    |    |    |-- element: string (containsNull = true)\n",
      " |    |    |-- ses:source-ip: array (nullable = true)\n",
      " |    |    |    |-- element: string (containsNull = true)\n",
      " |    |    |-- ses:source-tls-version: array (nullable = true)\n",
      " |    |    |    |-- element: string (containsNull = true)\n",
      " |    |-- timestamp: string (nullable = true)\n",
      " |-- open: struct (nullable = true)\n",
      " |    |-- ipAddress: string (nullable = true)\n",
      " |    |-- timestamp: string (nullable = true)\n",
      " |    |-- userAgent: string (nullable = true)\n",
      " |-- year: string (nullable = false)\n",
      " |-- month: string (nullable = false)\n",
      " |-- day: string (nullable = false)\n",
      "\n"
     ]
    }
   ],
   "source": [
    "df_with_date.printSchema()"
   ]
  },
  {
   "cell_type": "code",
   "execution_count": 5,
   "metadata": {},
   "outputs": [
    {
     "name": "stdout",
     "output_type": "stream",
     "text": [
      "Calculation started (calculation_id=66c80ba9-7036-2330-30e1-1c90524cdac5) in (session=a8c80ba6-4bb4-29e5-c771-6f8eda99c979). Checking calculation status...\n"
     ]
    },
    {
     "data": {
      "application/vnd.jupyter.widget-view+json": {
       "model_id": "f9c99d9f2d5a49c9ab45303c94b1b5fc",
       "version_major": 2,
       "version_minor": 0
      },
      "text/plain": [
       "Progress:   0%|          |elapsed time = 00:00s"
      ]
     },
     "metadata": {},
     "output_type": "display_data"
    },
    {
     "name": "stdout",
     "output_type": "stream",
     "text": [
      "Calculation completed.\n",
      "+--------------+----------+\n",
      "|           isp|send_count|\n",
      "+--------------+----------+\n",
      "|     gmail.com|    251297|\n",
      "|     yahoo.com|    110310|\n",
      "|   hotmail.com|    102477|\n",
      "|       aol.com|     19428|\n",
      "| hotmail.co.uk|     10000|\n",
      "|    hotmail.fr|      8253|\n",
      "|  yahoo.com.tw|      8181|\n",
      "|   outlook.com|      8070|\n",
      "|        web.de|      7613|\n",
      "|    icloud.com|      6678|\n",
      "|       msn.com|      5953|\n",
      "|        gmx.de|      5660|\n",
      "|     naver.com|      5369|\n",
      "|      live.com|      5009|\n",
      "|  docomo.ne.jp|      4529|\n",
      "|       mail.ru|      4038|\n",
      "|   comcast.net|      3925|\n",
      "|   ezweb.ne.jp|      3850|\n",
      "|   yahoo.co.uk|      3687|\n",
      "|googlemail.com|      3489|\n",
      "+--------------+----------+\n",
      "only showing top 20 rows\n",
      "\n"
     ]
    }
   ],
   "source": [
    "from pyspark.sql.functions import desc\n",
    "send_df = filtered_withdate_df.where(col(\"eventType\") == \"Send\").select(explode(\"mail.destination\").alias(\"exploded_destination\")).dropDuplicates()\n",
    "isp_send_df = send_df.withColumn(\"isp\", split(col(\"exploded_destination\"), \"@\")[1]).select(\"isp\")\n",
    "ana_isp_send_df = isp_send_df.groupBy(\"isp\").count().withColumnRenamed(\"count\", \"send_count\")\n",
    "ana_isp_send_df.orderBy(-col(\"send_count\")).show()"
   ]
  },
  {
   "cell_type": "code",
   "execution_count": 6,
   "metadata": {},
   "outputs": [
    {
     "name": "stdout",
     "output_type": "stream",
     "text": [
      "Calculation started (calculation_id=aac80ba9-c3be-1b48-1595-12d3edd57468) in (session=a8c80ba6-4bb4-29e5-c771-6f8eda99c979). Checking calculation status...\n"
     ]
    },
    {
     "data": {
      "application/vnd.jupyter.widget-view+json": {
       "model_id": "efaee6d7a0fa45bd8593dd68d4204e50",
       "version_major": 2,
       "version_minor": 0
      },
      "text/plain": [
       "Progress:   0%|          |elapsed time = 00:00s"
      ]
     },
     "metadata": {},
     "output_type": "display_data"
    },
    {
     "name": "stdout",
     "output_type": "stream",
     "text": [
      "Calculation completed.\n",
      "73079\n",
      "+--------------+------------+\n",
      "|           isp|bounce_count|\n",
      "+--------------+------------+\n",
      "|     yahoo.com|       26596|\n",
      "|   hotmail.com|        4779|\n",
      "|  docomo.ne.jp|        3724|\n",
      "|       aol.com|        3109|\n",
      "|  yahoo.com.tw|        2778|\n",
      "|     gmail.com|        2438|\n",
      "|   ezweb.ne.jp|        1648|\n",
      "|        web.de|        1405|\n",
      "|     ymail.com|        1159|\n",
      "|      nate.com|        1054|\n",
      "|     libero.it|         715|\n",
      "|   yahoo.co.uk|         692|\n",
      "| i.softbank.jp|         692|\n",
      "|      yahoo.de|         641|\n",
      "|    hotmail.fr|         557|\n",
      "|   yahoo.co.id|         535|\n",
      "|     naver.com|         515|\n",
      "|   comcast.net|         502|\n",
      "|softbank.ne.jp|         500|\n",
      "|rocketmail.com|         494|\n",
      "+--------------+------------+\n",
      "only showing top 20 rows\n",
      "\n"
     ]
    }
   ],
   "source": [
    "bounce_df = filtered_withdate_df.where((col(\"eventType\") == \"Bounce\") & (col(\"bounce.bounceType\")==\"Permanent\")).select(explode(\"mail.destination\").alias(\"exploded_destination\")).dropDuplicates()\n",
    "#print(bounce_df.count())\n",
    "isp_bounce_df = bounce_df.withColumn(\"isp\", split(col(\"exploded_destination\"), \"@\")[1]).select(\"isp\")\n",
    "ana_isp_bounce_df = isp_bounce_df.groupBy(\"isp\").count().withColumnRenamed(\"count\", \"bounce_count\")\n",
    "ana_isp_bounce_df.orderBy(-col(\"bounce_count\")).show()"
   ]
  },
  {
   "cell_type": "code",
   "execution_count": 7,
   "metadata": {},
   "outputs": [
    {
     "name": "stdout",
     "output_type": "stream",
     "text": [
      "Calculation started (calculation_id=aac80baa-2867-8706-cbf7-96e2542be187) in (session=a8c80ba6-4bb4-29e5-c771-6f8eda99c979). Checking calculation status...\n"
     ]
    },
    {
     "data": {
      "application/vnd.jupyter.widget-view+json": {
       "model_id": "623496bd9cea41c8ab076ea7e2fdb73b",
       "version_major": 2,
       "version_minor": 0
      },
      "text/plain": [
       "Progress:   0%|          |elapsed time = 00:00s"
      ]
     },
     "metadata": {},
     "output_type": "display_data"
    },
    {
     "name": "stdout",
     "output_type": "stream",
     "text": [
      "Calculation completed.\n"
     ]
    }
   ],
   "source": [
    "\n",
    "send_bounce_df = ana_isp_send_df.join(ana_isp_bounce_df, ana_isp_send_df.isp == ana_isp_bounce_df.isp, \"left\") \\\n",
    "                .select(ana_isp_send_df.isp, ana_isp_send_df.send_count,coalesce(ana_isp_bounce_df.bounce_count, lit(0)).alias(\"bounce_count\"))"
   ]
  },
  {
   "cell_type": "code",
   "execution_count": 8,
   "metadata": {},
   "outputs": [
    {
     "name": "stdout",
     "output_type": "stream",
     "text": [
      "Calculation started (calculation_id=e2c80baa-4435-43eb-fac3-17af22823239) in (session=a8c80ba6-4bb4-29e5-c771-6f8eda99c979). Checking calculation status...\n"
     ]
    },
    {
     "data": {
      "application/vnd.jupyter.widget-view+json": {
       "model_id": "9362a7dca9ce453c80c7e81f1bbb645b",
       "version_major": 2,
       "version_minor": 0
      },
      "text/plain": [
       "Progress:   0%|          |elapsed time = 00:00s"
      ]
     },
     "metadata": {},
     "output_type": "display_data"
    },
    {
     "name": "stdout",
     "output_type": "stream",
     "text": [
      "Calculation completed.\n",
      "+--------------+----------+------------+\n",
      "|           isp|send_count|bounce_count|\n",
      "+--------------+----------+------------+\n",
      "|     gmail.com|    251297|        2438|\n",
      "|     yahoo.com|    110310|       26596|\n",
      "|   hotmail.com|    102477|        4779|\n",
      "|       aol.com|     19428|        3109|\n",
      "| hotmail.co.uk|     10000|         444|\n",
      "|    hotmail.fr|      8253|         557|\n",
      "|  yahoo.com.tw|      8181|        2778|\n",
      "|   outlook.com|      8070|         354|\n",
      "|        web.de|      7613|        1405|\n",
      "|    icloud.com|      6678|          15|\n",
      "|       msn.com|      5953|          97|\n",
      "|        gmx.de|      5660|         134|\n",
      "|     naver.com|      5369|         515|\n",
      "|      live.com|      5009|         379|\n",
      "|  docomo.ne.jp|      4529|        3724|\n",
      "|       mail.ru|      4038|         481|\n",
      "|   comcast.net|      3925|         502|\n",
      "|   ezweb.ne.jp|      3850|        1648|\n",
      "|   yahoo.co.uk|      3687|         692|\n",
      "|googlemail.com|      3489|          20|\n",
      "+--------------+----------+------------+\n",
      "only showing top 20 rows\n",
      "\n"
     ]
    }
   ],
   "source": [
    "send_bounce_df.orderBy(-col(\"send_count\")).show()"
   ]
  },
  {
   "cell_type": "code",
   "execution_count": 1,
   "metadata": {},
   "outputs": [
    {
     "name": "stdout",
     "output_type": "stream",
     "text": [
      "Calculation started (calculation_id=3ac80a49-bc50-a86b-b47c-bc38697c4e47) in (session=70c80a49-94dc-9cce-f855-53c81e80b926). Checking calculation status...\n"
     ]
    },
    {
     "data": {
      "application/vnd.jupyter.widget-view+json": {
       "model_id": "4007eb3a2c0a4719bc019112dd954e40",
       "version_major": 2,
       "version_minor": 0
      },
      "text/plain": [
       "Progress:   0%|          |elapsed time = 00:00s"
      ]
     },
     "metadata": {},
     "output_type": "display_data"
    },
    {
     "name": "stdout",
     "output_type": "stream",
     "text": [
      "Calculation 3ac80a49-bc50-a86b-b47c-bc38697c4e47 failed\n",
      "\n",
      "\n",
      "  File \"<stdin>\", line 1, in <module>\n",
      "NameError: name 'send_bounce_df' is not defined\n",
      "\n"
     ]
    }
   ],
   "source": [
    "send_bounce_df.orderBy(-col(\"send_count\")).write \\\n",
    "    .mode(\"overwrite\") \\\n",
    "    .format(\"csv\") \\\n",
    "    .option(\"header\", \"true\") \\\n",
    "    .save(f\"s3://mm-7th-anniversary-data/analytics/send_bounce_data/\")"
   ]
  },
  {
   "cell_type": "code",
   "execution_count": 9,
   "metadata": {},
   "outputs": [
    {
     "name": "stdout",
     "output_type": "stream",
     "text": [
      "Calculation started (calculation_id=70c80bac-bf46-73b7-f6d7-b31cd9d4747b) in (session=a8c80ba6-4bb4-29e5-c771-6f8eda99c979). Checking calculation status...\n"
     ]
    },
    {
     "data": {
      "application/vnd.jupyter.widget-view+json": {
       "model_id": "f96dcd447b6b45f7912ff1f71e515a3a",
       "version_major": 2,
       "version_minor": 0
      },
      "text/plain": [
       "Progress:   0%|          |elapsed time = 00:00s"
      ]
     },
     "metadata": {},
     "output_type": "display_data"
    },
    {
     "name": "stdout",
     "output_type": "stream",
     "text": [
      "Calculation completed.\n"
     ]
    }
   ],
   "source": [
    "opened_df = filtered_withdate_df.where(col(\"eventType\") == \"Open\")"
   ]
  },
  {
   "cell_type": "code",
   "execution_count": 10,
   "metadata": {},
   "outputs": [
    {
     "name": "stdout",
     "output_type": "stream",
     "text": [
      "Calculation started (calculation_id=8ec80bac-d928-e4c8-7bad-082c38fa6eef) in (session=a8c80ba6-4bb4-29e5-c771-6f8eda99c979). Checking calculation status...\n"
     ]
    },
    {
     "data": {
      "application/vnd.jupyter.widget-view+json": {
       "model_id": "265d368ff14340e1b0543ab2b82fbc00",
       "version_major": 2,
       "version_minor": 0
      },
      "text/plain": [
       "Progress:   0%|          |elapsed time = 00:00s"
      ]
     },
     "metadata": {},
     "output_type": "display_data"
    },
    {
     "name": "stdout",
     "output_type": "stream",
     "text": [
      "Calculation completed.\n"
     ]
    }
   ],
   "source": [
    "opened_mailonly_df = opened_df.select(explode(\"mail.destination\").alias(\"exploded_destination\"))\n",
    "distinct_opened_mailonly_df = opened_mailonly_df.dropDuplicates()\n",
    "# print(opened_mailonly_df.count())\n",
    "# print(distinct_opened_mailonly_df.count())"
   ]
  },
  {
   "cell_type": "code",
   "execution_count": 12,
   "metadata": {},
   "outputs": [
    {
     "name": "stdout",
     "output_type": "stream",
     "text": [
      "Calculation started (calculation_id=b0c80bae-735c-8985-5b32-04c257ad177f) in (session=a8c80ba6-4bb4-29e5-c771-6f8eda99c979). Checking calculation status...\n"
     ]
    },
    {
     "data": {
      "application/vnd.jupyter.widget-view+json": {
       "model_id": "a8614968ab55449c890e7bf2fa562e66",
       "version_major": 2,
       "version_minor": 0
      },
      "text/plain": [
       "Progress:   0%|          |elapsed time = 00:00s"
      ]
     },
     "metadata": {},
     "output_type": "display_data"
    },
    {
     "name": "stdout",
     "output_type": "stream",
     "text": [
      "Calculation completed.\n",
      "+--------------+---------+----+\n",
      "|           isp|all_opens|open|\n",
      "+--------------+---------+----+\n",
      "|   hotmail.com|     7343|6431|\n",
      "|     gmail.com|     2528|2203|\n",
      "|   hanmail.net|     1419|1347|\n",
      "|     yahoo.com|     1383|1170|\n",
      "|  yahoo.com.tw|     1243|1082|\n",
      "|   ezweb.ne.jp|     1076| 784|\n",
      "|    icloud.com|      791| 659|\n",
      "|        web.de|      741| 623|\n",
      "|   t-online.de|      683| 501|\n",
      "|        gmx.de|      667| 548|\n",
      "|    hotmail.fr|      623| 566|\n",
      "|btinternet.com|      572| 400|\n",
      "|       aol.com|      529| 429|\n",
      "|     orange.fr|      524| 363|\n",
      "| sbcglobal.net|      497| 386|\n",
      "|   outlook.com|      450| 387|\n",
      "|      yahoo.de|      439| 378|\n",
      "|  yahoo.com.hk|      436| 354|\n",
      "|       att.net|      435| 368|\n",
      "|   yahoo.co.jp|      410| 284|\n",
      "+--------------+---------+----+\n",
      "only showing top 20 rows\n",
      "\n"
     ]
    }
   ],
   "source": [
    "\n",
    "isp_open_df = opened_mailonly_df.withColumn(\"isp\", split(col(\"exploded_destination\"), \"@\")[1])\n",
    "ana_isp_open_df = isp_open_df.groupBy(\"isp\").agg(count(\"exploded_destination\").alias(\"all_opens\"),countDistinct(\"exploded_destination\").alias(\"open\"))\n",
    "# isp_open_nodup_df = distinct_opened_mailonly_df.withColumn(\"isp\", split(col(\"exploded_destination\"), \"@\")[1]).select(\"isp\")\n",
    "# ana_isp_open_df = isp_bounce_df.groupBy(\"isp\").count().withColumnRenamed(\"count\", \"open_count\")\n",
    "ana_isp_open_df.orderBy(-col(\"all_opens\")).show()"
   ]
  },
  {
   "cell_type": "code",
   "execution_count": 13,
   "metadata": {},
   "outputs": [
    {
     "name": "stdout",
     "output_type": "stream",
     "text": [
      "Calculation started (calculation_id=bcc80baf-14b3-a2de-f3c3-a5602c940763) in (session=a8c80ba6-4bb4-29e5-c771-6f8eda99c979). Checking calculation status...\n"
     ]
    },
    {
     "data": {
      "application/vnd.jupyter.widget-view+json": {
       "model_id": "5479d9cfbb8d4906bbb402dc9046f9ef",
       "version_major": 2,
       "version_minor": 0
      },
      "text/plain": [
       "Progress:   0%|          |elapsed time = 00:00s"
      ]
     },
     "metadata": {},
     "output_type": "display_data"
    },
    {
     "name": "stdout",
     "output_type": "stream",
     "text": [
      "Calculation completed.\n",
      "+--------------+--------------+\n",
      "|           isp|delivery_count|\n",
      "+--------------+--------------+\n",
      "|     gmail.com|        246027|\n",
      "|   hotmail.com|         98211|\n",
      "|     yahoo.com|         83712|\n",
      "|       aol.com|         16319|\n",
      "| hotmail.co.uk|          9610|\n",
      "|    hotmail.fr|          7768|\n",
      "|   outlook.com|          7757|\n",
      "|        web.de|          6179|\n",
      "|    icloud.com|          6131|\n",
      "|       msn.com|          5869|\n",
      "|        gmx.de|          5505|\n",
      "|  yahoo.com.tw|          5403|\n",
      "|     naver.com|          4854|\n",
      "|      live.com|          4681|\n",
      "|       mail.ru|          3557|\n",
      "|googlemail.com|          3450|\n",
      "|   comcast.net|          3393|\n",
      "|    hotmail.de|          3155|\n",
      "|   yahoo.co.uk|          2995|\n",
      "|    hotmail.it|          2474|\n",
      "+--------------+--------------+\n",
      "only showing top 20 rows\n",
      "\n"
     ]
    }
   ],
   "source": [
    "delivery_df = filtered_withdate_df.where(col(\"eventType\") == \"Delivery\")\n",
    "delivery_mailonly_df = delivery_df.select(explode(\"mail.destination\").alias(\"exploded_destination\")).dropDuplicates()\n",
    "isp_delivery_df = delivery_mailonly_df.withColumn(\"isp\", split(col(\"exploded_destination\"), \"@\")[1])\n",
    "ana_isp_delivery_df = isp_delivery_df.groupBy(\"isp\").agg(count(\"exploded_destination\").alias(\"delivery_count\"))\n",
    "ana_isp_delivery_df.orderBy(-col(\"delivery_count\")).show()"
   ]
  },
  {
   "cell_type": "code",
   "execution_count": 14,
   "metadata": {},
   "outputs": [
    {
     "name": "stdout",
     "output_type": "stream",
     "text": [
      "Calculation started (calculation_id=82c80baf-5f74-0475-7f27-1c226fe089b9) in (session=a8c80ba6-4bb4-29e5-c771-6f8eda99c979). Checking calculation status...\n"
     ]
    },
    {
     "data": {
      "application/vnd.jupyter.widget-view+json": {
       "model_id": "efea9b9d59a34e71b5169c85a98f7644",
       "version_major": 2,
       "version_minor": 0
      },
      "text/plain": [
       "Progress:   0%|          |elapsed time = 00:00s"
      ]
     },
     "metadata": {},
     "output_type": "display_data"
    },
    {
     "name": "stdout",
     "output_type": "stream",
     "text": [
      "Calculation completed.\n",
      "+--------------+--------------+---------+----+\n",
      "|           isp|delivery_count|all_opens|open|\n",
      "+--------------+--------------+---------+----+\n",
      "|     gmail.com|        246027|     2528|2203|\n",
      "|   hotmail.com|         98211|     7343|6431|\n",
      "|     yahoo.com|         83712|     1383|1170|\n",
      "|       aol.com|         16319|      529| 429|\n",
      "| hotmail.co.uk|          9610|      382| 328|\n",
      "|    hotmail.fr|          7768|      623| 566|\n",
      "|   outlook.com|          7757|      450| 387|\n",
      "|        web.de|          6179|      741| 623|\n",
      "|    icloud.com|          6131|      791| 659|\n",
      "|       msn.com|          5869|      310| 264|\n",
      "|        gmx.de|          5505|      667| 548|\n",
      "|  yahoo.com.tw|          5403|     1243|1082|\n",
      "|     naver.com|          4854|      360| 294|\n",
      "|      live.com|          4681|      169| 144|\n",
      "|       mail.ru|          3557|      312| 295|\n",
      "|googlemail.com|          3450|       68|  59|\n",
      "|   comcast.net|          3393|      387| 302|\n",
      "|    hotmail.de|          3155|      211| 190|\n",
      "|   yahoo.co.uk|          2995|      128| 109|\n",
      "|    hotmail.it|          2474|      226| 210|\n",
      "+--------------+--------------+---------+----+\n",
      "only showing top 20 rows\n",
      "\n"
     ]
    }
   ],
   "source": [
    "#delivery / open ԋ\n",
    "from pyspark.sql.functions import coalesce\n",
    "delivery_open_df = ana_isp_delivery_df.join(ana_isp_open_df, ana_isp_delivery_df.isp == ana_isp_open_df.isp, \"left\") \\\n",
    "                .select(ana_isp_delivery_df.isp, ana_isp_delivery_df.delivery_count, coalesce(ana_isp_open_df.all_opens, lit(0)).alias(\"all_opens\") \\\n",
    "                ,coalesce(ana_isp_open_df.open, lit(0)).alias(\"open\"))\n",
    "delivery_open_df.orderBy(-col(\"delivery_count\")).show()"
   ]
  },
  {
   "cell_type": "code",
   "execution_count": 16,
   "metadata": {},
   "outputs": [
    {
     "name": "stdout",
     "output_type": "stream",
     "text": [
      "Calculation started (calculation_id=62c80a6a-784d-b795-5385-dfad506751c2) in (session=70c80a49-94dc-9cce-f855-53c81e80b926). Checking calculation status...\n"
     ]
    },
    {
     "data": {
      "application/vnd.jupyter.widget-view+json": {
       "model_id": "084457ffe85c4d6d8fcf2802b811beea",
       "version_major": 2,
       "version_minor": 0
      },
      "text/plain": [
       "Progress:   0%|          |elapsed time = 00:00s"
      ]
     },
     "metadata": {},
     "output_type": "display_data"
    },
    {
     "name": "stdout",
     "output_type": "stream",
     "text": [
      "Calculation completed.\n"
     ]
    }
   ],
   "source": [
    "delivery_open_df.orderBy(-col(\"delivery_count\")).write \\\n",
    "    .mode(\"overwrite\") \\\n",
    "    .format(\"csv\") \\\n",
    "    .option(\"header\", \"true\") \\\n",
    "    .save(f\"s3://mm-7th-anniversary-data/analytics/delivery_open_data/\")"
   ]
  },
  {
   "cell_type": "code",
   "execution_count": 15,
   "metadata": {},
   "outputs": [
    {
     "name": "stdout",
     "output_type": "stream",
     "text": [
      "Calculation started (calculation_id=64c80bb7-357d-fcab-66d3-9d87dec6cbc8) in (session=a8c80ba6-4bb4-29e5-c771-6f8eda99c979). Checking calculation status...\n"
     ]
    },
    {
     "data": {
      "application/vnd.jupyter.widget-view+json": {
       "model_id": "1d2bb2acec214aaa85cae0cacaf1b618",
       "version_major": 2,
       "version_minor": 0
      },
      "text/plain": [
       "Progress:   0%|          |elapsed time = 00:00s"
      ]
     },
     "metadata": {},
     "output_type": "display_data"
    },
    {
     "name": "stdout",
     "output_type": "stream",
     "text": [
      "Calculation completed.\n",
      "+------+---------------------------------------------------------------------------------------------------------------------------------------------------------------------------------------------------------------------------------------------+---------+--------+---------+-------+----------------------------------------------------------------------------------------------------------------------------------------------------------------------------------------------------------------------------------------------------------------------------------------------------------------------------------------------------------------------------------------------------------------------------------------------------------------------------------------------------------------------------------------------------------------------------------------------------------------------------------------------------------------------------------------------------------------------------------------------------------------------------------------------------------------------------------------------------------------------------------------------------------------------------------------------------------------------------------------------------------------------------------------------------------------------------------------------------------------------------------------+----+----+-----+---+\n",
      "|bounce|click                                                                                                                                                                                                                                        |complaint|delivery|eventType|failure|mail                                                                                                                                                                                                                                                                                                                                                                                                                                                                                                                                                                                                                                                                                                                                                                                                                                                                                                                                                                                                                                                                                                                                    |open|year|month|day|\n",
      "+------+---------------------------------------------------------------------------------------------------------------------------------------------------------------------------------------------------------------------------------------------+---------+--------+---------+-------+----------------------------------------------------------------------------------------------------------------------------------------------------------------------------------------------------------------------------------------------------------------------------------------------------------------------------------------------------------------------------------------------------------------------------------------------------------------------------------------------------------------------------------------------------------------------------------------------------------------------------------------------------------------------------------------------------------------------------------------------------------------------------------------------------------------------------------------------------------------------------------------------------------------------------------------------------------------------------------------------------------------------------------------------------------------------------------------------------------------------------------------+----+----+-----+---+\n",
      "|null  |{209.222.82.235, https://app.adjust.com/1tc3z10?campaign=email7th, null, 2024-05-23T12:00:09.942Z, Mozilla/4.0 (compatible; MSIE 8.0; Windows NT 6.1; WOW64; Trident/4.0; SLCC2; .NET CLR 2.0.50727; .NET CLR 3.5.30729; .NET CLR 3.0.30729)}|null     |null    |Click    |null   |{{null, [Matchington mansion Turns 7! <MM@matchingtonmansion.com>], 0101018fa552a4ed-91f66d17-503a-4c7a-917d-b43c469c1271-000000, Wish on a star and blow out a candle - Matchington Mansion Turns 7!, null}, [sshumaker@nkasd.com], [{Content-Type, multipart/mixed; boundary=\"===============3037437498217128975==\"}, {MIME-Version, 1.0}, {List-Unsubscribe, <https://8ngevcqps4.execute-api.us-west-2.amazonaws.com/prod/unsubscribe?email_add=sshumaker@nkasd.com&sig=998910230e262eae298ec3e53185bf34d52e368dfcd739469238de03b9071151>, <mailto:unsubscribe@matchingtonmansion.com?subject=TopicUnsubscribe> }, {List-Unsubscribe-Post, List-Unsubscribe=One-Click}, {Subject, Wish on a star and blow out a candle - Matchington Mansion Turns 7!}, {From, Matchington mansion Turns 7! <MM@matchingtonmansion.com>}], false, 0101018fa552a4ed-91f66d17-503a-4c7a-917d-b43c469c1271-000000, 891377356308, Matchington mansion Turns 7! <MM@matchingtonmansion.com>, null, {null, [emailcustomchannel-role-rzneywn9], [hop], [matchingtonmansion.com], [SendRawEmail], null, [35.167.19.38], [TLSv1.3]}, 2024-05-23T12:00:07.917Z}|null|2024|05   |23 |\n",
      "+------+---------------------------------------------------------------------------------------------------------------------------------------------------------------------------------------------------------------------------------------------+---------+--------+---------+-------+----------------------------------------------------------------------------------------------------------------------------------------------------------------------------------------------------------------------------------------------------------------------------------------------------------------------------------------------------------------------------------------------------------------------------------------------------------------------------------------------------------------------------------------------------------------------------------------------------------------------------------------------------------------------------------------------------------------------------------------------------------------------------------------------------------------------------------------------------------------------------------------------------------------------------------------------------------------------------------------------------------------------------------------------------------------------------------------------------------------------------------------+----+----+-----+---+\n",
      "only showing top 1 row\n",
      "\n",
      "+-------------+----------+-----+\n",
      "|          isp|all_clicks|click|\n",
      "+-------------+----------+-----+\n",
      "|    gmail.com|       372|  228|\n",
      "|  hotmail.com|       315|  215|\n",
      "|    yahoo.com|       168|  125|\n",
      "|       web.de|       153|  114|\n",
      "|  t-online.de|       148|  105|\n",
      "|  ezweb.ne.jp|       114|   98|\n",
      "|       gmx.de|       111|   85|\n",
      "|     yahoo.de|        93|   73|\n",
      "|    naver.com|        91|   68|\n",
      "|      aol.com|        70|   61|\n",
      "|   icloud.com|        66|   56|\n",
      "|  yahoo.co.jp|        63|   43|\n",
      "|    orange.fr|        61|   45|\n",
      "|hotmail.co.uk|        57|   26|\n",
      "|  outlook.com|        47|   22|\n",
      "|sbcglobal.net|        43|   31|\n",
      "|   uol.com.br|        39|    3|\n",
      "|      att.net|        35|   29|\n",
      "| yahoo.com.tw|        35|   30|\n",
      "|  comcast.net|        34|   27|\n",
      "+-------------+----------+-----+\n",
      "only showing top 20 rows\n",
      "\n"
     ]
    }
   ],
   "source": [
    "clicked_df = filtered_withdate_df.where(col(\"eventType\") == \"Click\")\n",
    "clicked_filtered = clicked_df.filter(col(\"click.link\").contains(\"adjust.com\") | col(\"click.link\").contains(\"tuxn.adj\"))\n",
    "clicked_filtered.show(1,truncate=False)\n",
    "clicked_rename_df = clicked_filtered.select(explode(\"mail.destination\").alias(\"exploded_destination\"))\n",
    "isp_clicked_df = clicked_rename_df.withColumn(\"isp\", split(col(\"exploded_destination\"), \"@\")[1])\n",
    "ana_isp_clicked_df = isp_clicked_df.groupBy(\"isp\").agg(count(\"exploded_destination\").alias(\"all_clicks\"),countDistinct(\"exploded_destination\").alias(\"click\"))\n",
    "ana_isp_clicked_df.orderBy(-col(\"all_clicks\")).show()"
   ]
  },
  {
   "cell_type": "code",
   "execution_count": 21,
   "metadata": {},
   "outputs": [
    {
     "name": "stdout",
     "output_type": "stream",
     "text": [
      "Calculation started (calculation_id=fcc80bbd-8232-2f23-63dd-670c1bdb2402) in (session=a8c80ba6-4bb4-29e5-c771-6f8eda99c979). Checking calculation status...\n"
     ]
    },
    {
     "data": {
      "application/vnd.jupyter.widget-view+json": {
       "model_id": "b4890c1ce86442a2818a4b69d3b029f3",
       "version_major": 2,
       "version_minor": 0
      },
      "text/plain": [
       "Progress:   0%|          |elapsed time = 00:00s"
      ]
     },
     "metadata": {},
     "output_type": "display_data"
    },
    {
     "name": "stdout",
     "output_type": "stream",
     "text": [
      "Calculation completed.\n",
      "+------+---------------------------------------------------------------------------------------------------------------------------------------------------------------------------------------------------------------------------------+---------+--------+---------+-------+---------------------------------------------------------------------------------------------------------------------------------------------------------------------------------------------------------------------------------------------------------------------------------------------------------------------------------------------------------------------------------------------------------------------------------------------------------------------------------------------------------------------------------------------------------------------------------------------------------------------------------------------------------------------------------------------------------------------------------------------------------------------------------------------------------------------------------------------------------------------------------------------------------------------------------------------------------------------------------------------------------------------------------------------------------------------------------------------------------------------------------------+----+----+-----+---+------------------+\n",
      "|bounce|click                                                                                                                                                                                                                            |complaint|delivery|eventType|failure|mail                                                                                                                                                                                                                                                                                                                                                                                                                                                                                                                                                                                                                                                                                                                                                                                                                                                                                                                                                                                                                                                                                                                                   |open|year|month|day|maildesc          |\n",
      "+------+---------------------------------------------------------------------------------------------------------------------------------------------------------------------------------------------------------------------------------+---------+--------+---------+-------+---------------------------------------------------------------------------------------------------------------------------------------------------------------------------------------------------------------------------------------------------------------------------------------------------------------------------------------------------------------------------------------------------------------------------------------------------------------------------------------------------------------------------------------------------------------------------------------------------------------------------------------------------------------------------------------------------------------------------------------------------------------------------------------------------------------------------------------------------------------------------------------------------------------------------------------------------------------------------------------------------------------------------------------------------------------------------------------------------------------------------------------+----+----+-----+---+------------------+\n",
      "|null  |{189.60.71.178, https://app.adjust.com/1tc3z10?campaign=email7th, null, 2024-06-01T15:40:16.968Z, Mozilla/5.0 (Linux; Android 10; K) AppleWebKit/537.36 (KHTML, like Gecko) Chrome/125.0.0.0 Mobile Safari/537.36 EdgA/125.0.0.0}|null     |null    |Click    |null   |{{null, [Matchington mansion Turns 7! <MM@matchingtonmansion.com>], 0101018fa556a9e7-f09c54cc-e8e9-47b0-931d-329d3f0d626d-000000, Wish on a star and blow out a candle - Matchington Mansion Turns 7!, null}, [stravis@uol.com.br], [{Content-Type, multipart/mixed; boundary=\"===============3025446917285299689==\"}, {MIME-Version, 1.0}, {List-Unsubscribe, <https://8ngevcqps4.execute-api.us-west-2.amazonaws.com/prod/unsubscribe?email_add=stravis@uol.com.br&sig=a23ae173d7d83a944fe61f64aee39763fb084b2ab305bef9f4a112afb7ee739c>, <mailto:unsubscribe@matchingtonmansion.com?subject=TopicUnsubscribe> }, {List-Unsubscribe-Post, List-Unsubscribe=One-Click}, {Subject, Wish on a star and blow out a candle - Matchington Mansion Turns 7!}, {From, Matchington mansion Turns 7! <MM@matchingtonmansion.com>}], false, 0101018fa556a9e7-f09c54cc-e8e9-47b0-931d-329d3f0d626d-000000, 891377356308, Matchington mansion Turns 7! <MM@matchingtonmansion.com>, null, {null, [emailcustomchannel-role-rzneywn9], [hop], [matchingtonmansion.com], [SendRawEmail], null, [34.216.49.214], [TLSv1.3]}, 2024-05-23T12:04:31.335Z}|null|2024|06   |01 |stravis@uol.com.br|\n",
      "|null  |{189.60.71.178, https://app.adjust.com/1tc3z10?campaign=email7th, null, 2024-05-24T01:32:47.918Z, Mozilla/5.0 (Linux; Android 10; K) AppleWebKit/537.36 (KHTML, like Gecko) Chrome/124.0.0.0 Mobile Safari/537.36 EdgA/124.0.0.0}|null     |null    |Click    |null   |{{null, [Matchington mansion Turns 7! <MM@matchingtonmansion.com>], 0101018fa556a9e7-f09c54cc-e8e9-47b0-931d-329d3f0d626d-000000, Wish on a star and blow out a candle - Matchington Mansion Turns 7!, null}, [stravis@uol.com.br], [{Content-Type, multipart/mixed; boundary=\"===============3025446917285299689==\"}, {MIME-Version, 1.0}, {List-Unsubscribe, <https://8ngevcqps4.execute-api.us-west-2.amazonaws.com/prod/unsubscribe?email_add=stravis@uol.com.br&sig=a23ae173d7d83a944fe61f64aee39763fb084b2ab305bef9f4a112afb7ee739c>, <mailto:unsubscribe@matchingtonmansion.com?subject=TopicUnsubscribe> }, {List-Unsubscribe-Post, List-Unsubscribe=One-Click}, {Subject, Wish on a star and blow out a candle - Matchington Mansion Turns 7!}, {From, Matchington mansion Turns 7! <MM@matchingtonmansion.com>}], false, 0101018fa556a9e7-f09c54cc-e8e9-47b0-931d-329d3f0d626d-000000, 891377356308, Matchington mansion Turns 7! <MM@matchingtonmansion.com>, null, {null, [emailcustomchannel-role-rzneywn9], [hop], [matchingtonmansion.com], [SendRawEmail], null, [34.216.49.214], [TLSv1.3]}, 2024-05-23T12:04:31.335Z}|null|2024|05   |24 |stravis@uol.com.br|\n",
      "|null  |{189.60.71.178, https://app.adjust.com/1tc3z10?campaign=email7th, null, 2024-05-30T10:54:42.063Z, Mozilla/5.0 (Linux; Android 10; K) AppleWebKit/537.36 (KHTML, like Gecko) Chrome/125.0.0.0 Mobile Safari/537.36 EdgA/125.0.0.0}|null     |null    |Click    |null   |{{null, [Matchington mansion Turns 7! <MM@matchingtonmansion.com>], 0101018fa556a9e7-f09c54cc-e8e9-47b0-931d-329d3f0d626d-000000, Wish on a star and blow out a candle - Matchington Mansion Turns 7!, null}, [stravis@uol.com.br], [{Content-Type, multipart/mixed; boundary=\"===============3025446917285299689==\"}, {MIME-Version, 1.0}, {List-Unsubscribe, <https://8ngevcqps4.execute-api.us-west-2.amazonaws.com/prod/unsubscribe?email_add=stravis@uol.com.br&sig=a23ae173d7d83a944fe61f64aee39763fb084b2ab305bef9f4a112afb7ee739c>, <mailto:unsubscribe@matchingtonmansion.com?subject=TopicUnsubscribe> }, {List-Unsubscribe-Post, List-Unsubscribe=One-Click}, {Subject, Wish on a star and blow out a candle - Matchington Mansion Turns 7!}, {From, Matchington mansion Turns 7! <MM@matchingtonmansion.com>}], false, 0101018fa556a9e7-f09c54cc-e8e9-47b0-931d-329d3f0d626d-000000, 891377356308, Matchington mansion Turns 7! <MM@matchingtonmansion.com>, null, {null, [emailcustomchannel-role-rzneywn9], [hop], [matchingtonmansion.com], [SendRawEmail], null, [34.216.49.214], [TLSv1.3]}, 2024-05-23T12:04:31.335Z}|null|2024|05   |30 |stravis@uol.com.br|\n",
      "|null  |{189.60.71.178, https://app.adjust.com/1tc3z10?campaign=email7th, null, 2024-06-03T16:33:11.406Z, Mozilla/5.0 (Linux; Android 10; K) AppleWebKit/537.36 (KHTML, like Gecko) Chrome/125.0.0.0 Mobile Safari/537.36 EdgA/125.0.0.0}|null     |null    |Click    |null   |{{null, [Matchington mansion Turns 7! <MM@matchingtonmansion.com>], 0101018fa556a9e7-f09c54cc-e8e9-47b0-931d-329d3f0d626d-000000, Wish on a star and blow out a candle - Matchington Mansion Turns 7!, null}, [stravis@uol.com.br], [{Content-Type, multipart/mixed; boundary=\"===============3025446917285299689==\"}, {MIME-Version, 1.0}, {List-Unsubscribe, <https://8ngevcqps4.execute-api.us-west-2.amazonaws.com/prod/unsubscribe?email_add=stravis@uol.com.br&sig=a23ae173d7d83a944fe61f64aee39763fb084b2ab305bef9f4a112afb7ee739c>, <mailto:unsubscribe@matchingtonmansion.com?subject=TopicUnsubscribe> }, {List-Unsubscribe-Post, List-Unsubscribe=One-Click}, {Subject, Wish on a star and blow out a candle - Matchington Mansion Turns 7!}, {From, Matchington mansion Turns 7! <MM@matchingtonmansion.com>}], false, 0101018fa556a9e7-f09c54cc-e8e9-47b0-931d-329d3f0d626d-000000, 891377356308, Matchington mansion Turns 7! <MM@matchingtonmansion.com>, null, {null, [emailcustomchannel-role-rzneywn9], [hop], [matchingtonmansion.com], [SendRawEmail], null, [34.216.49.214], [TLSv1.3]}, 2024-05-23T12:04:31.335Z}|null|2024|06   |03 |stravis@uol.com.br|\n",
      "|null  |{189.60.71.178, https://app.adjust.com/1tc3z10?campaign=email7th, null, 2024-06-02T11:26:13.875Z, Mozilla/5.0 (Linux; Android 10; K) AppleWebKit/537.36 (KHTML, like Gecko) Chrome/125.0.0.0 Mobile Safari/537.36 EdgA/125.0.0.0}|null     |null    |Click    |null   |{{null, [Matchington mansion Turns 7! <MM@matchingtonmansion.com>], 0101018fa556a9e7-f09c54cc-e8e9-47b0-931d-329d3f0d626d-000000, Wish on a star and blow out a candle - Matchington Mansion Turns 7!, null}, [stravis@uol.com.br], [{Content-Type, multipart/mixed; boundary=\"===============3025446917285299689==\"}, {MIME-Version, 1.0}, {List-Unsubscribe, <https://8ngevcqps4.execute-api.us-west-2.amazonaws.com/prod/unsubscribe?email_add=stravis@uol.com.br&sig=a23ae173d7d83a944fe61f64aee39763fb084b2ab305bef9f4a112afb7ee739c>, <mailto:unsubscribe@matchingtonmansion.com?subject=TopicUnsubscribe> }, {List-Unsubscribe-Post, List-Unsubscribe=One-Click}, {Subject, Wish on a star and blow out a candle - Matchington Mansion Turns 7!}, {From, Matchington mansion Turns 7! <MM@matchingtonmansion.com>}], false, 0101018fa556a9e7-f09c54cc-e8e9-47b0-931d-329d3f0d626d-000000, 891377356308, Matchington mansion Turns 7! <MM@matchingtonmansion.com>, null, {null, [emailcustomchannel-role-rzneywn9], [hop], [matchingtonmansion.com], [SendRawEmail], null, [34.216.49.214], [TLSv1.3]}, 2024-05-23T12:04:31.335Z}|null|2024|06   |02 |stravis@uol.com.br|\n",
      "|null  |{189.60.71.178, https://app.adjust.com/1tc3z10?campaign=email7th, null, 2024-06-04T21:07:13.811Z, Mozilla/5.0 (Linux; Android 10; K) AppleWebKit/537.36 (KHTML, like Gecko) Chrome/125.0.0.0 Mobile Safari/537.36 EdgA/125.0.0.0}|null     |null    |Click    |null   |{{null, [Matchington mansion Turns 7! <MM@matchingtonmansion.com>], 0101018fa556a9e7-f09c54cc-e8e9-47b0-931d-329d3f0d626d-000000, Wish on a star and blow out a candle - Matchington Mansion Turns 7!, null}, [stravis@uol.com.br], [{Content-Type, multipart/mixed; boundary=\"===============3025446917285299689==\"}, {MIME-Version, 1.0}, {List-Unsubscribe, <https://8ngevcqps4.execute-api.us-west-2.amazonaws.com/prod/unsubscribe?email_add=stravis@uol.com.br&sig=a23ae173d7d83a944fe61f64aee39763fb084b2ab305bef9f4a112afb7ee739c>, <mailto:unsubscribe@matchingtonmansion.com?subject=TopicUnsubscribe> }, {List-Unsubscribe-Post, List-Unsubscribe=One-Click}, {Subject, Wish on a star and blow out a candle - Matchington Mansion Turns 7!}, {From, Matchington mansion Turns 7! <MM@matchingtonmansion.com>}], false, 0101018fa556a9e7-f09c54cc-e8e9-47b0-931d-329d3f0d626d-000000, 891377356308, Matchington mansion Turns 7! <MM@matchingtonmansion.com>, null, {null, [emailcustomchannel-role-rzneywn9], [hop], [matchingtonmansion.com], [SendRawEmail], null, [34.216.49.214], [TLSv1.3]}, 2024-05-23T12:04:31.335Z}|null|2024|06   |04 |stravis@uol.com.br|\n",
      "|null  |{189.60.71.178, https://app.adjust.com/1tc3z10?campaign=email7th, null, 2024-06-04T22:01:55.490Z, Mozilla/5.0 (Linux; Android 10; K) AppleWebKit/537.36 (KHTML, like Gecko) Chrome/125.0.0.0 Mobile Safari/537.36 EdgA/125.0.0.0}|null     |null    |Click    |null   |{{null, [Matchington mansion Turns 7! <MM@matchingtonmansion.com>], 0101018fa556a9e7-f09c54cc-e8e9-47b0-931d-329d3f0d626d-000000, Wish on a star and blow out a candle - Matchington Mansion Turns 7!, null}, [stravis@uol.com.br], [{Content-Type, multipart/mixed; boundary=\"===============3025446917285299689==\"}, {MIME-Version, 1.0}, {List-Unsubscribe, <https://8ngevcqps4.execute-api.us-west-2.amazonaws.com/prod/unsubscribe?email_add=stravis@uol.com.br&sig=a23ae173d7d83a944fe61f64aee39763fb084b2ab305bef9f4a112afb7ee739c>, <mailto:unsubscribe@matchingtonmansion.com?subject=TopicUnsubscribe> }, {List-Unsubscribe-Post, List-Unsubscribe=One-Click}, {Subject, Wish on a star and blow out a candle - Matchington Mansion Turns 7!}, {From, Matchington mansion Turns 7! <MM@matchingtonmansion.com>}], false, 0101018fa556a9e7-f09c54cc-e8e9-47b0-931d-329d3f0d626d-000000, 891377356308, Matchington mansion Turns 7! <MM@matchingtonmansion.com>, null, {null, [emailcustomchannel-role-rzneywn9], [hop], [matchingtonmansion.com], [SendRawEmail], null, [34.216.49.214], [TLSv1.3]}, 2024-05-23T12:04:31.335Z}|null|2024|06   |04 |stravis@uol.com.br|\n",
      "|null  |{189.60.71.178, https://app.adjust.com/1tc3z10?campaign=email7th, null, 2024-06-09T22:30:36.672Z, Mozilla/5.0 (Linux; Android 10; K) AppleWebKit/537.36 (KHTML, like Gecko) Chrome/125.0.0.0 Mobile Safari/537.36 EdgA/125.0.0.0}|null     |null    |Click    |null   |{{null, [Matchington mansion Turns 7! <MM@matchingtonmansion.com>], 0101018fa556a9e7-f09c54cc-e8e9-47b0-931d-329d3f0d626d-000000, Wish on a star and blow out a candle - Matchington Mansion Turns 7!, null}, [stravis@uol.com.br], [{Content-Type, multipart/mixed; boundary=\"===============3025446917285299689==\"}, {MIME-Version, 1.0}, {List-Unsubscribe, <https://8ngevcqps4.execute-api.us-west-2.amazonaws.com/prod/unsubscribe?email_add=stravis@uol.com.br&sig=a23ae173d7d83a944fe61f64aee39763fb084b2ab305bef9f4a112afb7ee739c>, <mailto:unsubscribe@matchingtonmansion.com?subject=TopicUnsubscribe> }, {List-Unsubscribe-Post, List-Unsubscribe=One-Click}, {Subject, Wish on a star and blow out a candle - Matchington Mansion Turns 7!}, {From, Matchington mansion Turns 7! <MM@matchingtonmansion.com>}], false, 0101018fa556a9e7-f09c54cc-e8e9-47b0-931d-329d3f0d626d-000000, 891377356308, Matchington mansion Turns 7! <MM@matchingtonmansion.com>, null, {null, [emailcustomchannel-role-rzneywn9], [hop], [matchingtonmansion.com], [SendRawEmail], null, [34.216.49.214], [TLSv1.3]}, 2024-05-23T12:04:31.335Z}|null|2024|06   |09 |stravis@uol.com.br|\n",
      "|null  |{189.60.71.178, https://app.adjust.com/1tc3z10?campaign=email7th, null, 2024-05-24T10:44:30.774Z, Mozilla/5.0 (Linux; Android 10; K) AppleWebKit/537.36 (KHTML, like Gecko) Chrome/124.0.0.0 Mobile Safari/537.36 EdgA/124.0.0.0}|null     |null    |Click    |null   |{{null, [Matchington mansion Turns 7! <MM@matchingtonmansion.com>], 0101018fa556a9e7-f09c54cc-e8e9-47b0-931d-329d3f0d626d-000000, Wish on a star and blow out a candle - Matchington Mansion Turns 7!, null}, [stravis@uol.com.br], [{Content-Type, multipart/mixed; boundary=\"===============3025446917285299689==\"}, {MIME-Version, 1.0}, {List-Unsubscribe, <https://8ngevcqps4.execute-api.us-west-2.amazonaws.com/prod/unsubscribe?email_add=stravis@uol.com.br&sig=a23ae173d7d83a944fe61f64aee39763fb084b2ab305bef9f4a112afb7ee739c>, <mailto:unsubscribe@matchingtonmansion.com?subject=TopicUnsubscribe> }, {List-Unsubscribe-Post, List-Unsubscribe=One-Click}, {Subject, Wish on a star and blow out a candle - Matchington Mansion Turns 7!}, {From, Matchington mansion Turns 7! <MM@matchingtonmansion.com>}], false, 0101018fa556a9e7-f09c54cc-e8e9-47b0-931d-329d3f0d626d-000000, 891377356308, Matchington mansion Turns 7! <MM@matchingtonmansion.com>, null, {null, [emailcustomchannel-role-rzneywn9], [hop], [matchingtonmansion.com], [SendRawEmail], null, [34.216.49.214], [TLSv1.3]}, 2024-05-23T12:04:31.335Z}|null|2024|05   |24 |stravis@uol.com.br|\n",
      "|null  |{189.60.71.178, https://app.adjust.com/1tc3z10?campaign=email7th, null, 2024-06-08T01:08:34.620Z, Mozilla/5.0 (Linux; Android 10; K) AppleWebKit/537.36 (KHTML, like Gecko) Chrome/125.0.0.0 Mobile Safari/537.36 EdgA/125.0.0.0}|null     |null    |Click    |null   |{{null, [Matchington mansion Turns 7! <MM@matchingtonmansion.com>], 0101018fa556a9e7-f09c54cc-e8e9-47b0-931d-329d3f0d626d-000000, Wish on a star and blow out a candle - Matchington Mansion Turns 7!, null}, [stravis@uol.com.br], [{Content-Type, multipart/mixed; boundary=\"===============3025446917285299689==\"}, {MIME-Version, 1.0}, {List-Unsubscribe, <https://8ngevcqps4.execute-api.us-west-2.amazonaws.com/prod/unsubscribe?email_add=stravis@uol.com.br&sig=a23ae173d7d83a944fe61f64aee39763fb084b2ab305bef9f4a112afb7ee739c>, <mailto:unsubscribe@matchingtonmansion.com?subject=TopicUnsubscribe> }, {List-Unsubscribe-Post, List-Unsubscribe=One-Click}, {Subject, Wish on a star and blow out a candle - Matchington Mansion Turns 7!}, {From, Matchington mansion Turns 7! <MM@matchingtonmansion.com>}], false, 0101018fa556a9e7-f09c54cc-e8e9-47b0-931d-329d3f0d626d-000000, 891377356308, Matchington mansion Turns 7! <MM@matchingtonmansion.com>, null, {null, [emailcustomchannel-role-rzneywn9], [hop], [matchingtonmansion.com], [SendRawEmail], null, [34.216.49.214], [TLSv1.3]}, 2024-05-23T12:04:31.335Z}|null|2024|06   |08 |stravis@uol.com.br|\n",
      "|null  |{177.26.94.40, https://app.adjust.com/1tc3z10?campaign=email7th, null, 2024-05-25T13:16:49.785Z, Mozilla/5.0 (Linux; Android 10; K) AppleWebKit/537.36 (KHTML, like Gecko) Chrome/125.0.0.0 Mobile Safari/537.36 EdgA/125.0.0.0} |null     |null    |Click    |null   |{{null, [Matchington mansion Turns 7! <MM@matchingtonmansion.com>], 0101018fa556a9e7-f09c54cc-e8e9-47b0-931d-329d3f0d626d-000000, Wish on a star and blow out a candle - Matchington Mansion Turns 7!, null}, [stravis@uol.com.br], [{Content-Type, multipart/mixed; boundary=\"===============3025446917285299689==\"}, {MIME-Version, 1.0}, {List-Unsubscribe, <https://8ngevcqps4.execute-api.us-west-2.amazonaws.com/prod/unsubscribe?email_add=stravis@uol.com.br&sig=a23ae173d7d83a944fe61f64aee39763fb084b2ab305bef9f4a112afb7ee739c>, <mailto:unsubscribe@matchingtonmansion.com?subject=TopicUnsubscribe> }, {List-Unsubscribe-Post, List-Unsubscribe=One-Click}, {Subject, Wish on a star and blow out a candle - Matchington Mansion Turns 7!}, {From, Matchington mansion Turns 7! <MM@matchingtonmansion.com>}], false, 0101018fa556a9e7-f09c54cc-e8e9-47b0-931d-329d3f0d626d-000000, 891377356308, Matchington mansion Turns 7! <MM@matchingtonmansion.com>, null, {null, [emailcustomchannel-role-rzneywn9], [hop], [matchingtonmansion.com], [SendRawEmail], null, [34.216.49.214], [TLSv1.3]}, 2024-05-23T12:04:31.335Z}|null|2024|05   |25 |stravis@uol.com.br|\n",
      "|null  |{189.60.71.178, https://app.adjust.com/1tc3z10?campaign=email7th, null, 2024-05-30T15:33:45.246Z, Mozilla/5.0 (Linux; Android 10; K) AppleWebKit/537.36 (KHTML, like Gecko) Chrome/125.0.0.0 Mobile Safari/537.36 EdgA/125.0.0.0}|null     |null    |Click    |null   |{{null, [Matchington mansion Turns 7! <MM@matchingtonmansion.com>], 0101018fa556a9e7-f09c54cc-e8e9-47b0-931d-329d3f0d626d-000000, Wish on a star and blow out a candle - Matchington Mansion Turns 7!, null}, [stravis@uol.com.br], [{Content-Type, multipart/mixed; boundary=\"===============3025446917285299689==\"}, {MIME-Version, 1.0}, {List-Unsubscribe, <https://8ngevcqps4.execute-api.us-west-2.amazonaws.com/prod/unsubscribe?email_add=stravis@uol.com.br&sig=a23ae173d7d83a944fe61f64aee39763fb084b2ab305bef9f4a112afb7ee739c>, <mailto:unsubscribe@matchingtonmansion.com?subject=TopicUnsubscribe> }, {List-Unsubscribe-Post, List-Unsubscribe=One-Click}, {Subject, Wish on a star and blow out a candle - Matchington Mansion Turns 7!}, {From, Matchington mansion Turns 7! <MM@matchingtonmansion.com>}], false, 0101018fa556a9e7-f09c54cc-e8e9-47b0-931d-329d3f0d626d-000000, 891377356308, Matchington mansion Turns 7! <MM@matchingtonmansion.com>, null, {null, [emailcustomchannel-role-rzneywn9], [hop], [matchingtonmansion.com], [SendRawEmail], null, [34.216.49.214], [TLSv1.3]}, 2024-05-23T12:04:31.335Z}|null|2024|05   |30 |stravis@uol.com.br|\n",
      "|null  |{189.60.71.178, https://app.adjust.com/1tc3z10?campaign=email7th, null, 2024-06-02T23:08:43.970Z, Mozilla/5.0 (Linux; Android 10; K) AppleWebKit/537.36 (KHTML, like Gecko) Chrome/125.0.0.0 Mobile Safari/537.36 EdgA/125.0.0.0}|null     |null    |Click    |null   |{{null, [Matchington mansion Turns 7! <MM@matchingtonmansion.com>], 0101018fa556a9e7-f09c54cc-e8e9-47b0-931d-329d3f0d626d-000000, Wish on a star and blow out a candle - Matchington Mansion Turns 7!, null}, [stravis@uol.com.br], [{Content-Type, multipart/mixed; boundary=\"===============3025446917285299689==\"}, {MIME-Version, 1.0}, {List-Unsubscribe, <https://8ngevcqps4.execute-api.us-west-2.amazonaws.com/prod/unsubscribe?email_add=stravis@uol.com.br&sig=a23ae173d7d83a944fe61f64aee39763fb084b2ab305bef9f4a112afb7ee739c>, <mailto:unsubscribe@matchingtonmansion.com?subject=TopicUnsubscribe> }, {List-Unsubscribe-Post, List-Unsubscribe=One-Click}, {Subject, Wish on a star and blow out a candle - Matchington Mansion Turns 7!}, {From, Matchington mansion Turns 7! <MM@matchingtonmansion.com>}], false, 0101018fa556a9e7-f09c54cc-e8e9-47b0-931d-329d3f0d626d-000000, 891377356308, Matchington mansion Turns 7! <MM@matchingtonmansion.com>, null, {null, [emailcustomchannel-role-rzneywn9], [hop], [matchingtonmansion.com], [SendRawEmail], null, [34.216.49.214], [TLSv1.3]}, 2024-05-23T12:04:31.335Z}|null|2024|06   |02 |stravis@uol.com.br|\n",
      "|null  |{189.60.71.178, https://app.adjust.com/1tc3z10?campaign=email7th, null, 2024-06-02T02:14:01.512Z, Mozilla/5.0 (Linux; Android 10; K) AppleWebKit/537.36 (KHTML, like Gecko) Chrome/125.0.0.0 Mobile Safari/537.36 EdgA/125.0.0.0}|null     |null    |Click    |null   |{{null, [Matchington mansion Turns 7! <MM@matchingtonmansion.com>], 0101018fa556a9e7-f09c54cc-e8e9-47b0-931d-329d3f0d626d-000000, Wish on a star and blow out a candle - Matchington Mansion Turns 7!, null}, [stravis@uol.com.br], [{Content-Type, multipart/mixed; boundary=\"===============3025446917285299689==\"}, {MIME-Version, 1.0}, {List-Unsubscribe, <https://8ngevcqps4.execute-api.us-west-2.amazonaws.com/prod/unsubscribe?email_add=stravis@uol.com.br&sig=a23ae173d7d83a944fe61f64aee39763fb084b2ab305bef9f4a112afb7ee739c>, <mailto:unsubscribe@matchingtonmansion.com?subject=TopicUnsubscribe> }, {List-Unsubscribe-Post, List-Unsubscribe=One-Click}, {Subject, Wish on a star and blow out a candle - Matchington Mansion Turns 7!}, {From, Matchington mansion Turns 7! <MM@matchingtonmansion.com>}], false, 0101018fa556a9e7-f09c54cc-e8e9-47b0-931d-329d3f0d626d-000000, 891377356308, Matchington mansion Turns 7! <MM@matchingtonmansion.com>, null, {null, [emailcustomchannel-role-rzneywn9], [hop], [matchingtonmansion.com], [SendRawEmail], null, [34.216.49.214], [TLSv1.3]}, 2024-05-23T12:04:31.335Z}|null|2024|06   |02 |stravis@uol.com.br|\n",
      "|null  |{189.60.71.178, https://app.adjust.com/1tc3z10?campaign=email7th, null, 2024-05-25T23:20:51.330Z, Mozilla/5.0 (Linux; Android 10; K) AppleWebKit/537.36 (KHTML, like Gecko) Chrome/125.0.0.0 Mobile Safari/537.36 EdgA/125.0.0.0}|null     |null    |Click    |null   |{{null, [Matchington mansion Turns 7! <MM@matchingtonmansion.com>], 0101018fa556a9e7-f09c54cc-e8e9-47b0-931d-329d3f0d626d-000000, Wish on a star and blow out a candle - Matchington Mansion Turns 7!, null}, [stravis@uol.com.br], [{Content-Type, multipart/mixed; boundary=\"===============3025446917285299689==\"}, {MIME-Version, 1.0}, {List-Unsubscribe, <https://8ngevcqps4.execute-api.us-west-2.amazonaws.com/prod/unsubscribe?email_add=stravis@uol.com.br&sig=a23ae173d7d83a944fe61f64aee39763fb084b2ab305bef9f4a112afb7ee739c>, <mailto:unsubscribe@matchingtonmansion.com?subject=TopicUnsubscribe> }, {List-Unsubscribe-Post, List-Unsubscribe=One-Click}, {Subject, Wish on a star and blow out a candle - Matchington Mansion Turns 7!}, {From, Matchington mansion Turns 7! <MM@matchingtonmansion.com>}], false, 0101018fa556a9e7-f09c54cc-e8e9-47b0-931d-329d3f0d626d-000000, 891377356308, Matchington mansion Turns 7! <MM@matchingtonmansion.com>, null, {null, [emailcustomchannel-role-rzneywn9], [hop], [matchingtonmansion.com], [SendRawEmail], null, [34.216.49.214], [TLSv1.3]}, 2024-05-23T12:04:31.335Z}|null|2024|05   |25 |stravis@uol.com.br|\n",
      "|null  |{189.60.71.178, https://app.adjust.com/1tc3z10?campaign=email7th, null, 2024-05-29T19:15:54.158Z, Mozilla/5.0 (Linux; Android 10; K) AppleWebKit/537.36 (KHTML, like Gecko) Chrome/125.0.0.0 Mobile Safari/537.36 EdgA/125.0.0.0}|null     |null    |Click    |null   |{{null, [Matchington mansion Turns 7! <MM@matchingtonmansion.com>], 0101018fa556a9e7-f09c54cc-e8e9-47b0-931d-329d3f0d626d-000000, Wish on a star and blow out a candle - Matchington Mansion Turns 7!, null}, [stravis@uol.com.br], [{Content-Type, multipart/mixed; boundary=\"===============3025446917285299689==\"}, {MIME-Version, 1.0}, {List-Unsubscribe, <https://8ngevcqps4.execute-api.us-west-2.amazonaws.com/prod/unsubscribe?email_add=stravis@uol.com.br&sig=a23ae173d7d83a944fe61f64aee39763fb084b2ab305bef9f4a112afb7ee739c>, <mailto:unsubscribe@matchingtonmansion.com?subject=TopicUnsubscribe> }, {List-Unsubscribe-Post, List-Unsubscribe=One-Click}, {Subject, Wish on a star and blow out a candle - Matchington Mansion Turns 7!}, {From, Matchington mansion Turns 7! <MM@matchingtonmansion.com>}], false, 0101018fa556a9e7-f09c54cc-e8e9-47b0-931d-329d3f0d626d-000000, 891377356308, Matchington mansion Turns 7! <MM@matchingtonmansion.com>, null, {null, [emailcustomchannel-role-rzneywn9], [hop], [matchingtonmansion.com], [SendRawEmail], null, [34.216.49.214], [TLSv1.3]}, 2024-05-23T12:04:31.335Z}|null|2024|05   |29 |stravis@uol.com.br|\n",
      "|null  |{189.60.71.178, https://app.adjust.com/1tc3z10?campaign=email7th, null, 2024-05-27T02:41:44.074Z, Mozilla/5.0 (Linux; Android 10; K) AppleWebKit/537.36 (KHTML, like Gecko) Chrome/125.0.0.0 Mobile Safari/537.36 EdgA/125.0.0.0}|null     |null    |Click    |null   |{{null, [Matchington mansion Turns 7! <MM@matchingtonmansion.com>], 0101018fa556a9e7-f09c54cc-e8e9-47b0-931d-329d3f0d626d-000000, Wish on a star and blow out a candle - Matchington Mansion Turns 7!, null}, [stravis@uol.com.br], [{Content-Type, multipart/mixed; boundary=\"===============3025446917285299689==\"}, {MIME-Version, 1.0}, {List-Unsubscribe, <https://8ngevcqps4.execute-api.us-west-2.amazonaws.com/prod/unsubscribe?email_add=stravis@uol.com.br&sig=a23ae173d7d83a944fe61f64aee39763fb084b2ab305bef9f4a112afb7ee739c>, <mailto:unsubscribe@matchingtonmansion.com?subject=TopicUnsubscribe> }, {List-Unsubscribe-Post, List-Unsubscribe=One-Click}, {Subject, Wish on a star and blow out a candle - Matchington Mansion Turns 7!}, {From, Matchington mansion Turns 7! <MM@matchingtonmansion.com>}], false, 0101018fa556a9e7-f09c54cc-e8e9-47b0-931d-329d3f0d626d-000000, 891377356308, Matchington mansion Turns 7! <MM@matchingtonmansion.com>, null, {null, [emailcustomchannel-role-rzneywn9], [hop], [matchingtonmansion.com], [SendRawEmail], null, [34.216.49.214], [TLSv1.3]}, 2024-05-23T12:04:31.335Z}|null|2024|05   |27 |stravis@uol.com.br|\n",
      "|null  |{189.60.71.178, https://app.adjust.com/1tc3z10?campaign=email7th, null, 2024-05-24T23:13:57.688Z, Mozilla/5.0 (Linux; Android 10; K) AppleWebKit/537.36 (KHTML, like Gecko) Chrome/124.0.0.0 Mobile Safari/537.36 EdgA/124.0.0.0}|null     |null    |Click    |null   |{{null, [Matchington mansion Turns 7! <MM@matchingtonmansion.com>], 0101018fa556a9e7-f09c54cc-e8e9-47b0-931d-329d3f0d626d-000000, Wish on a star and blow out a candle - Matchington Mansion Turns 7!, null}, [stravis@uol.com.br], [{Content-Type, multipart/mixed; boundary=\"===============3025446917285299689==\"}, {MIME-Version, 1.0}, {List-Unsubscribe, <https://8ngevcqps4.execute-api.us-west-2.amazonaws.com/prod/unsubscribe?email_add=stravis@uol.com.br&sig=a23ae173d7d83a944fe61f64aee39763fb084b2ab305bef9f4a112afb7ee739c>, <mailto:unsubscribe@matchingtonmansion.com?subject=TopicUnsubscribe> }, {List-Unsubscribe-Post, List-Unsubscribe=One-Click}, {Subject, Wish on a star and blow out a candle - Matchington Mansion Turns 7!}, {From, Matchington mansion Turns 7! <MM@matchingtonmansion.com>}], false, 0101018fa556a9e7-f09c54cc-e8e9-47b0-931d-329d3f0d626d-000000, 891377356308, Matchington mansion Turns 7! <MM@matchingtonmansion.com>, null, {null, [emailcustomchannel-role-rzneywn9], [hop], [matchingtonmansion.com], [SendRawEmail], null, [34.216.49.214], [TLSv1.3]}, 2024-05-23T12:04:31.335Z}|null|2024|05   |24 |stravis@uol.com.br|\n",
      "|null  |{189.60.71.178, https://app.adjust.com/1tc3z10?campaign=email7th, null, 2024-06-05T22:49:24.819Z, Mozilla/5.0 (Linux; Android 10; K) AppleWebKit/537.36 (KHTML, like Gecko) Chrome/125.0.0.0 Mobile Safari/537.36 EdgA/125.0.0.0}|null     |null    |Click    |null   |{{null, [Matchington mansion Turns 7! <MM@matchingtonmansion.com>], 0101018fa556a9e7-f09c54cc-e8e9-47b0-931d-329d3f0d626d-000000, Wish on a star and blow out a candle - Matchington Mansion Turns 7!, null}, [stravis@uol.com.br], [{Content-Type, multipart/mixed; boundary=\"===============3025446917285299689==\"}, {MIME-Version, 1.0}, {List-Unsubscribe, <https://8ngevcqps4.execute-api.us-west-2.amazonaws.com/prod/unsubscribe?email_add=stravis@uol.com.br&sig=a23ae173d7d83a944fe61f64aee39763fb084b2ab305bef9f4a112afb7ee739c>, <mailto:unsubscribe@matchingtonmansion.com?subject=TopicUnsubscribe> }, {List-Unsubscribe-Post, List-Unsubscribe=One-Click}, {Subject, Wish on a star and blow out a candle - Matchington Mansion Turns 7!}, {From, Matchington mansion Turns 7! <MM@matchingtonmansion.com>}], false, 0101018fa556a9e7-f09c54cc-e8e9-47b0-931d-329d3f0d626d-000000, 891377356308, Matchington mansion Turns 7! <MM@matchingtonmansion.com>, null, {null, [emailcustomchannel-role-rzneywn9], [hop], [matchingtonmansion.com], [SendRawEmail], null, [34.216.49.214], [TLSv1.3]}, 2024-05-23T12:04:31.335Z}|null|2024|06   |05 |stravis@uol.com.br|\n",
      "|null  |{189.60.71.178, https://app.adjust.com/1tc3z10?campaign=email7th, null, 2024-05-30T22:37:32.964Z, Mozilla/5.0 (Linux; Android 10; K) AppleWebKit/537.36 (KHTML, like Gecko) Chrome/125.0.0.0 Mobile Safari/537.36 EdgA/125.0.0.0}|null     |null    |Click    |null   |{{null, [Matchington mansion Turns 7! <MM@matchingtonmansion.com>], 0101018fa556a9e7-f09c54cc-e8e9-47b0-931d-329d3f0d626d-000000, Wish on a star and blow out a candle - Matchington Mansion Turns 7!, null}, [stravis@uol.com.br], [{Content-Type, multipart/mixed; boundary=\"===============3025446917285299689==\"}, {MIME-Version, 1.0}, {List-Unsubscribe, <https://8ngevcqps4.execute-api.us-west-2.amazonaws.com/prod/unsubscribe?email_add=stravis@uol.com.br&sig=a23ae173d7d83a944fe61f64aee39763fb084b2ab305bef9f4a112afb7ee739c>, <mailto:unsubscribe@matchingtonmansion.com?subject=TopicUnsubscribe> }, {List-Unsubscribe-Post, List-Unsubscribe=One-Click}, {Subject, Wish on a star and blow out a candle - Matchington Mansion Turns 7!}, {From, Matchington mansion Turns 7! <MM@matchingtonmansion.com>}], false, 0101018fa556a9e7-f09c54cc-e8e9-47b0-931d-329d3f0d626d-000000, 891377356308, Matchington mansion Turns 7! <MM@matchingtonmansion.com>, null, {null, [emailcustomchannel-role-rzneywn9], [hop], [matchingtonmansion.com], [SendRawEmail], null, [34.216.49.214], [TLSv1.3]}, 2024-05-23T12:04:31.335Z}|null|2024|05   |30 |stravis@uol.com.br|\n",
      "+------+---------------------------------------------------------------------------------------------------------------------------------------------------------------------------------------------------------------------------------+---------+--------+---------+-------+---------------------------------------------------------------------------------------------------------------------------------------------------------------------------------------------------------------------------------------------------------------------------------------------------------------------------------------------------------------------------------------------------------------------------------------------------------------------------------------------------------------------------------------------------------------------------------------------------------------------------------------------------------------------------------------------------------------------------------------------------------------------------------------------------------------------------------------------------------------------------------------------------------------------------------------------------------------------------------------------------------------------------------------------------------------------------------------------------------------------------------------+----+----+-----+---+------------------+\n",
      "only showing top 20 rows\n",
      "\n"
     ]
    }
   ],
   "source": [
    "test_df = isp_clicked_df.where(col(\"isp\") == \"uol.com.br\")\n",
    "#test_df.show() #stravis@uol.com.br\n",
    "test_df2 = clicked_filtered.withColumn(\"maildesc\",explode(\"mail.destination\"))\n",
    "test_df3 = test_df2.where(col(\"maildesc\") == \"stravis@uol.com.br\")\n",
    "test_df3.show(truncate=False)"
   ]
  },
  {
   "cell_type": "code",
   "execution_count": 24,
   "metadata": {},
   "outputs": [
    {
     "name": "stdout",
     "output_type": "stream",
     "text": [
      "Calculation started (calculation_id=8ac80bc3-b8fb-95c8-1178-c27b116a0483) in (session=a8c80ba6-4bb4-29e5-c771-6f8eda99c979). Checking calculation status...\n"
     ]
    },
    {
     "data": {
      "application/vnd.jupyter.widget-view+json": {
       "model_id": "0b685f9c8f2a478683cfa617b375d251",
       "version_major": 2,
       "version_minor": 0
      },
      "text/plain": [
       "Progress:   0%|          |elapsed time = 00:00s"
      ]
     },
     "metadata": {},
     "output_type": "display_data"
    },
    {
     "name": "stdout",
     "output_type": "stream",
     "text": [
      "Calculation completed.\n",
      "+--------------+--------------+----------+-----+\n",
      "|           isp|delivery_count|all_clicks|click|\n",
      "+--------------+--------------+----------+-----+\n",
      "|     gmail.com|        246027|       372|  228|\n",
      "|   hotmail.com|         98211|       315|  215|\n",
      "|     yahoo.com|         83712|       168|  125|\n",
      "|       aol.com|         16319|        70|   61|\n",
      "| hotmail.co.uk|          9610|        57|   26|\n",
      "|    hotmail.fr|          7768|        17|   11|\n",
      "|   outlook.com|          7757|        47|   22|\n",
      "|        web.de|          6179|       153|  114|\n",
      "|    icloud.com|          6131|        66|   56|\n",
      "|       msn.com|          5869|        27|   19|\n",
      "|        gmx.de|          5505|       111|   85|\n",
      "|  yahoo.com.tw|          5403|        35|   30|\n",
      "|     naver.com|          4854|        91|   68|\n",
      "|      live.com|          4681|         7|    7|\n",
      "|       mail.ru|          3557|        12|   10|\n",
      "|googlemail.com|          3450|         7|    4|\n",
      "|   comcast.net|          3393|        34|   27|\n",
      "|    hotmail.de|          3155|        12|    9|\n",
      "|   yahoo.co.uk|          2995|        25|   14|\n",
      "|    hotmail.it|          2474|         2|    2|\n",
      "+--------------+--------------+----------+-----+\n",
      "only showing top 20 rows\n",
      "\n"
     ]
    }
   ],
   "source": [
    "#delivery / click ԋ\n",
    "delivery_click_df = ana_isp_delivery_df.join(ana_isp_clicked_df, ana_isp_delivery_df.isp == ana_isp_clicked_df.isp, \"left\") \\\n",
    "                .select(ana_isp_delivery_df.isp, ana_isp_delivery_df.delivery_count, coalesce(ana_isp_clicked_df.all_clicks, lit(0)).alias(\"all_clicks\") \\\n",
    "                ,coalesce(ana_isp_clicked_df.click, lit(0)).alias(\"click\"))\n",
    "delivery_click_df.orderBy(-col(\"delivery_count\")).show()"
   ]
  },
  {
   "cell_type": "code",
   "execution_count": 25,
   "metadata": {},
   "outputs": [
    {
     "name": "stdout",
     "output_type": "stream",
     "text": [
      "Calculation started (calculation_id=a4c80bc5-6e31-b3d8-4839-dd18470159d2) in (session=a8c80ba6-4bb4-29e5-c771-6f8eda99c979). Checking calculation status...\n"
     ]
    },
    {
     "data": {
      "application/vnd.jupyter.widget-view+json": {
       "model_id": "90829912fd604d788c4905eb2f8ca0d3",
       "version_major": 2,
       "version_minor": 0
      },
      "text/plain": [
       "Progress:   0%|          |elapsed time = 00:00s"
      ]
     },
     "metadata": {},
     "output_type": "display_data"
    },
    {
     "name": "stdout",
     "output_type": "stream",
     "text": [
      "Calculation completed.\n"
     ]
    }
   ],
   "source": [
    "delivery_click_df.orderBy(-col(\"delivery_count\")).write \\\n",
    "    .mode(\"overwrite\") \\\n",
    "    .format(\"csv\") \\\n",
    "    .option(\"header\", \"true\") \\\n",
    "    .save(f\"s3://mm-7th-anniversary-data/analytics/delivery_click_data/\")"
   ]
  },
  {
   "cell_type": "code",
   "execution_count": 26,
   "metadata": {},
   "outputs": [
    {
     "name": "stdout",
     "output_type": "stream",
     "text": [
      "Calculation started (calculation_id=08c80bcc-8685-ac0b-d088-b8ed4f35e3a3) in (session=a8c80ba6-4bb4-29e5-c771-6f8eda99c979). Checking calculation status...\n"
     ]
    },
    {
     "data": {
      "application/vnd.jupyter.widget-view+json": {
       "model_id": "83d7f587476f480ab82371fe488d0e60",
       "version_major": 2,
       "version_minor": 0
      },
      "text/plain": [
       "Progress:   0%|          |elapsed time = 00:00s"
      ]
     },
     "metadata": {},
     "output_type": "display_data"
    },
    {
     "name": "stdout",
     "output_type": "stream",
     "text": [
      "Calculation completed.\n"
     ]
    }
   ],
   "source": [
    "unique_clicked_df = clicked_rename_df.dropDuplicates()\n",
    "unique_clicked_df.coalesce(1).write \\\n",
    "    .mode(\"overwrite\") \\\n",
    "    .format(\"csv\") \\\n",
    "    .option(\"header\", \"true\") \\\n",
    "    .save(f\"s3://mm-7th-anniversary-data/analytics/clicked_email/\")"
   ]
  },
  {
   "cell_type": "code",
   "execution_count": 27,
   "metadata": {},
   "outputs": [
    {
     "name": "stdout",
     "output_type": "stream",
     "text": [
      "Calculation started (calculation_id=62c80bcd-cbb2-2340-f549-2f8df8080973) in (session=a8c80ba6-4bb4-29e5-c771-6f8eda99c979). Checking calculation status...\n"
     ]
    },
    {
     "data": {
      "application/vnd.jupyter.widget-view+json": {
       "model_id": "d646e82d884f4d50a473e8075b909617",
       "version_major": 2,
       "version_minor": 0
      },
      "text/plain": [
       "Progress:   0%|          |elapsed time = 00:00s"
      ]
     },
     "metadata": {},
     "output_type": "display_data"
    },
    {
     "name": "stdout",
     "output_type": "stream",
     "text": [
      "Calculation completed.\n"
     ]
    }
   ],
   "source": [
    "bounce_df.coalesce(1).write \\\n",
    "    .mode(\"overwrite\") \\\n",
    "    .format(\"csv\") \\\n",
    "    .option(\"header\", \"true\") \\\n",
    "    .save(f\"s3://mm-7th-anniversary-data/analytics/hard_bounce/\")"
   ]
  },
  {
   "cell_type": "code",
   "execution_count": 28,
   "metadata": {},
   "outputs": [
    {
     "name": "stdout",
     "output_type": "stream",
     "text": [
      "Calculation started (calculation_id=d6c80bcf-0338-0515-8070-61b4216f5e18) in (session=a8c80ba6-4bb4-29e5-c771-6f8eda99c979). Checking calculation status...\n"
     ]
    },
    {
     "data": {
      "application/vnd.jupyter.widget-view+json": {
       "model_id": "6c93c7ff33df4b7c90392898b3894262",
       "version_major": 2,
       "version_minor": 0
      },
      "text/plain": [
       "Progress:   0%|          |elapsed time = 00:00s"
      ]
     },
     "metadata": {},
     "output_type": "display_data"
    },
    {
     "name": "stdout",
     "output_type": "stream",
     "text": [
      "Calculation completed.\n"
     ]
    }
   ],
   "source": [
    "complaint_df = filtered_withdate_df.where(col(\"eventType\") == \"Complaint\").select(explode(\"mail.destination\").alias(\"exploded_destination\")).dropDuplicates()\n",
    "complaint_df.coalesce(1).write \\\n",
    "    .mode(\"overwrite\") \\\n",
    "    .format(\"csv\") \\\n",
    "    .option(\"header\", \"true\") \\\n",
    "    .save(f\"s3://mm-7th-anniversary-data/analytics/complaint/\")"
   ]
  },
  {
   "cell_type": "code",
   "execution_count": 29,
   "metadata": {},
   "outputs": [
    {
     "name": "stdout",
     "output_type": "stream",
     "text": [
      "Calculation started (calculation_id=1ec80bd5-55e1-ae74-6b33-77cf12ac0be4) in (session=a8c80ba6-4bb4-29e5-c771-6f8eda99c979). Checking calculation status...\n"
     ]
    },
    {
     "data": {
      "application/vnd.jupyter.widget-view+json": {
       "model_id": "5c94de894b1647d28c559f426f342030",
       "version_major": 2,
       "version_minor": 0
      },
      "text/plain": [
       "Progress:   0%|          |elapsed time = 00:00s"
      ]
     },
     "metadata": {},
     "output_type": "display_data"
    },
    {
     "name": "stdout",
     "output_type": "stream",
     "text": [
      "Calculation completed.\n"
     ]
    }
   ],
   "source": [
    "unsub_df = filtered_withdate_df.where(col(\"eventType\") == \"Click\")\n",
    "unsub_filtered = unsub_df.filter(col(\"click.link\").contains(\"unsubscribe\"))\n",
    "unsub_rename_df = unsub_filtered.select(explode(\"mail.destination\").alias(\"exploded_destination\")).dropDuplicates()\n",
    "unsub_rename_df.coalesce(1).write \\\n",
    "    .mode(\"overwrite\") \\\n",
    "    .format(\"csv\") \\\n",
    "    .option(\"header\", \"true\") \\\n",
    "    .save(f\"s3://mm-7th-anniversary-data/analytics/unsubmail/\")"
   ]
  },
  {
   "cell_type": "code",
   "execution_count": 32,
   "metadata": {},
   "outputs": [
    {
     "name": "stdout",
     "output_type": "stream",
     "text": [
      "Calculation started (calculation_id=e6c80be1-6e06-345c-7ff3-21b0baa70dbd) in (session=a8c80ba6-4bb4-29e5-c771-6f8eda99c979). Checking calculation status...\n"
     ]
    },
    {
     "data": {
      "application/vnd.jupyter.widget-view+json": {
       "model_id": "1852b15f08fd4aa3a738b30fa580a882",
       "version_major": 2,
       "version_minor": 0
      },
      "text/plain": [
       "Progress:   0%|          |elapsed time = 00:00s"
      ]
     },
     "metadata": {},
     "output_type": "display_data"
    },
    {
     "name": "stdout",
     "output_type": "stream",
     "text": [
      "Calculation completed.\n",
      "617069\n",
      "\n"
     ]
    }
   ],
   "source": [
    "#B�:�Hpn	�\n",
    "#print(send_df.count())\n",
    "#print(bounce_df.count())\n",
    "diff1 = send_df.select(\"exploded_destination\").subtract(bounce_df.select(\"exploded_destination\"))\n",
    "print(diff1.count())"
   ]
  },
  {
   "cell_type": "code",
   "execution_count": 33,
   "metadata": {},
   "outputs": [
    {
     "name": "stdout",
     "output_type": "stream",
     "text": [
      "Calculation started (calculation_id=8ec80be2-71f6-b133-d574-d383d7dd2154) in (session=a8c80ba6-4bb4-29e5-c771-6f8eda99c979). Checking calculation status...\n"
     ]
    },
    {
     "data": {
      "application/vnd.jupyter.widget-view+json": {
       "model_id": "710bee24fe7c42aba75fe7ad7d08941d",
       "version_major": 2,
       "version_minor": 0
      },
      "text/plain": [
       "Progress:   0%|          |elapsed time = 00:00s"
      ]
     },
     "metadata": {},
     "output_type": "display_data"
    },
    {
     "name": "stdout",
     "output_type": "stream",
     "text": [
      "Calculation completed.\n",
      "6322\n",
      "\n"
     ]
    }
   ],
   "source": [
    "diff2 = diff1.select(\"exploded_destination\").subtract(delivery_mailonly_df.select(\"exploded_destination\"))\n",
    "print(diff2.count())\n"
   ]
  },
  {
   "cell_type": "code",
   "execution_count": 35,
   "metadata": {},
   "outputs": [
    {
     "name": "stdout",
     "output_type": "stream",
     "text": [
      "Calculation started (calculation_id=aac80be3-b0e2-2c0f-e2c5-cb025dac49e8) in (session=a8c80ba6-4bb4-29e5-c771-6f8eda99c979). Checking calculation status...\n"
     ]
    },
    {
     "data": {
      "application/vnd.jupyter.widget-view+json": {
       "model_id": "29bef5ea2e6c4b65b2d485fe409373f2",
       "version_major": 2,
       "version_minor": 0
      },
      "text/plain": [
       "Progress:   0%|          |elapsed time = 00:00s"
      ]
     },
     "metadata": {},
     "output_type": "display_data"
    },
    {
     "name": "stdout",
     "output_type": "stream",
     "text": [
      "Calculation completed.\n",
      "+-------------------------------+\n",
      "|exploded_destination           |\n",
      "+-------------------------------+\n",
      "|babsi.vilgertshofer@vr-web.de  |\n",
      "|bubu198@mail.bg                |\n",
      "|fredrik.mattsson.85@icloud.com |\n",
      "|lisa.babbage@nightfreight.co.uk|\n",
      "|hananaldoseri_2@icloud.com     |\n",
      "|shanade13@gmail.com            |\n",
      "|malboras@sexy.lt               |\n",
      "|bk13215@gmail.com              |\n",
      "|morethana@netzero.com          |\n",
      "|cinzia.diddi@gruppodiddi.com   |\n",
      "|moodybluez54@gmail.com         |\n",
      "|kelsey.odorizzi@gmail.com      |\n",
      "|miagibson101@gmail.com         |\n",
      "|ph.tech@ovi.com                |\n",
      "|rosemarywoo@cantab.net         |\n",
      "|jiaohoe83@gmail.com            |\n",
      "|tfisher115@email.itt-tech.edu  |\n",
      "|telbartley@gmail.com           |\n",
      "|fainattariya@gmail.com         |\n",
      "|syedaa@vodafone.net            |\n",
      "+-------------------------------+\n",
      "only showing top 20 rows\n",
      "\n"
     ]
    }
   ],
   "source": [
    "diff2.show(truncate=False)"
   ]
  },
  {
   "cell_type": "markdown",
   "metadata": {},
   "source": [
    "|babsi.vilgertshofer@vr-web.de  |\n",
    "|bubu198@mail.bg                |\n",
    "|fredrik.mattsson.85@icloud.com |\n",
    "|lisa.babbage@nightfreight.co.uk|\n",
    "|hananaldoseri_2@icloud.com     |\n",
    "|shanade13@gmail.com            |\n",
    "|malboras@sexy.lt               |\n",
    "|bk13215@gmail.com              |\n",
    "|morethana@netzero.com          |\n",
    "|cinzia.diddi@gruppodiddi.com   |\n",
    "|moodybluez54@gmail.com         |\n",
    "|kelsey.odorizzi@gmail.com      |\n",
    "|miagibson101@gmail.com         |\n",
    "|ph.tech@ovi.com                |\n",
    "|rosemarywoo@cantab.net         |\n",
    "|jiaohoe83@gmail.com            |\n",
    "|tfisher115@email.itt-tech.edu  |\n",
    "|telbartley@gmail.com           |\n",
    "|fainattariya@gmail.com         |\n",
    "|syedaa@vodafone.net            |\n",
    "+---------------------"
   ]
  },
  {
   "cell_type": "code",
   "execution_count": 37,
   "metadata": {},
   "outputs": [
    {
     "name": "stdout",
     "output_type": "stream",
     "text": [
      "Calculation started (calculation_id=76c80be6-8fbd-d795-7eb7-0c9458193de7) in (session=a8c80ba6-4bb4-29e5-c771-6f8eda99c979). Checking calculation status...\n"
     ]
    },
    {
     "data": {
      "application/vnd.jupyter.widget-view+json": {
       "model_id": "cbc87a93968b4a5cb3277cc756ae759a",
       "version_major": 2,
       "version_minor": 0
      },
      "text/plain": [
       "Progress:   0%|          |elapsed time = 00:00s"
      ]
     },
     "metadata": {},
     "output_type": "display_data"
    },
    {
     "name": "stdout",
     "output_type": "stream",
     "text": [
      "Calculation completed.\n",
      "+--------------------------------------------------------------------------------------------------------------------------------------------------------------------------------------------------------------------------------------------------------------------------------------------------------------------------------------------------------------------------------------------------------------------------------------------------------------------------------------------------------------------------------------------------------------------------------------------------------------------------------------------------------------------------------------+-----+---------+--------+---------+-------+------------------------------------------------------------------------------------------------------------------------------------------------------------------------------------------------------------------------------------------------------------------------------------------------------------------------------------------------------------------------------------------------------------------------------------------------------------------------------------------------------------------------------------------------------------------------------------------------------------------------------------------------------------------------------------------------------------------------------------------------------------------------------------------------------------------------------------------------------------------------------------------------------------------------------------------------------------------------------------------------------------------------------------------------------------------------------------------------------------------------------------------------------------------------------------------------------------------------------------------------------------------------------------------------+----+----+-----+---+-------------------+\n",
      "|bounce                                                                                                                                                                                                                                                                                                                                                                                                                                                                                                                                                                                                                                                                                |click|complaint|delivery|eventType|failure|mail                                                                                                                                                                                                                                                                                                                                                                                                                                                                                                                                                                                                                                                                                                                                                                                                                                                                                                                                                                                                                                                                                                                                                                                                                                                                                            |open|year|month|day|maildesc           |\n",
      "+--------------------------------------------------------------------------------------------------------------------------------------------------------------------------------------------------------------------------------------------------------------------------------------------------------------------------------------------------------------------------------------------------------------------------------------------------------------------------------------------------------------------------------------------------------------------------------------------------------------------------------------------------------------------------------------+-----+---------+--------+---------+-------+------------------------------------------------------------------------------------------------------------------------------------------------------------------------------------------------------------------------------------------------------------------------------------------------------------------------------------------------------------------------------------------------------------------------------------------------------------------------------------------------------------------------------------------------------------------------------------------------------------------------------------------------------------------------------------------------------------------------------------------------------------------------------------------------------------------------------------------------------------------------------------------------------------------------------------------------------------------------------------------------------------------------------------------------------------------------------------------------------------------------------------------------------------------------------------------------------------------------------------------------------------------------------------------------+----+----+-----+---+-------------------+\n",
      "|null                                                                                                                                                                                                                                                                                                                                                                                                                                                                                                                                                                                                                                                                                  |null |null     |null    |Send     |null   |{{null, [Matchington mansion Turns 7! <MM@matchingtonmansion.com>], 0101018fa4eca9e4-b6200749-e9cb-4b62-b79e-7e56680155ce-000000, Wish on a star and blow out a candle - Matchington Mansion Turns 7!, null}, [shanade13@gmail.com], [{Content-Type, multipart/mixed; boundary=\"===============9067531344605765443==\"}, {MIME-Version, 1.0}, {List-Unsubscribe, <https://8ngevcqps4.execute-api.us-west-2.amazonaws.com/prod/unsubscribe?email_add=shanade13@gmail.com&sig=5c381d3741f1ae16834a98f6b8681dafb7fcffd8f272ffb103df6185b56ebd0f>, <mailto:unsubscribe@matchingtonmansion.com?subject=TopicUnsubscribe> }, {List-Unsubscribe-Post, List-Unsubscribe=One-Click}, {Subject, Wish on a star and blow out a candle - Matchington Mansion Turns 7!}, {From, Matchington mansion Turns 7! <MM@matchingtonmansion.com>}], false, 0101018fa4eca9e4-b6200749-e9cb-4b62-b79e-7e56680155ce-000000, 891377356308, Matchington mansion Turns 7! <MM@matchingtonmansion.com>, arn:aws:ses:us-west-2:891377356308:identity/matchingtonmansion.com, {null, [emailcustomchannel-role-rzneywn9], [hop], [matchingtonmansion.com], [SendRawEmail], null, [35.94.34.122], [TLSv1.3]}, 2024-05-23T10:08:44.516Z}                                                                                          |null|2024|05   |23 |shanade13@gmail.com|\n",
      "|null                                                                                                                                                                                                                                                                                                                                                                                                                                                                                                                                                                                                                                                                                  |null |null     |null    |Send     |null   |{{null, [Matchington mansion Turns 7! <MM@matchingtonmansion.com>], 0101018fe43ccaf0-11073add-d01d-4b48-8c41-0855e3a4a623-000000, null, [shanade13@gmail.com]}, [shanade13@gmail.com], [{From, Matchington mansion Turns 7! <MM@matchingtonmansion.com>}, {To, shanade13@gmail.com}, {List-Unsubscribe, <https://8ngevcqps4.execute-api.us-west-2.amazonaws.com/prod/unsubscribe?email_add=shanade13@gmail.com&sig=5c381d3741f1ae16834a98f6b8681dafb7fcffd8f272ffb103df6185b56ebd0f>,<mailto: unsubscribe@matchingtonmansion.com>}, {List-Unsubscribe-Post, List-Unsubscribe=One-Click}, {MIME-Version, 1.0}], false, 0101018fe43ccaf0-11073add-d01d-4b48-8c41-0855e3a4a623-000000, 891377356308, Matchington mansion Turns 7!<MM@matchingtonmansion.com>, null, {[2024-06-05-00-15-40], [sunbiao], [hop], [matchingtonmansion.com], [SendTemplatedEmail], null, [35.167.87.130], [TLSv1.3]}, 2024-06-04T17:12:20.464Z}                                                                                                                                                                                                                                                                                                                                                                         |null|2024|06   |04 |shanade13@gmail.com|\n",
      "|{ContentRejected, Transient, [{failed, smtp; 554 4.4.7 Message expired: unable to deliver in 840 minutes.<421-4.7.0 [54.240.27.202      19] Gmail has detected that this message is<CRLF>421-4.7.0 suspicious due to the very low reputation of the sending domain. To<CRLF>421-4.7.0 best protect our users from spam, the message has been blocked. For<CRLF>421-4.7.0 more information, go to<CRLF>421 4.7.0  https://support.google.com/mail/answer/188131 98e67ed59e1d1-2bf5fe34940si469069a91.101 - gsmtp>, shanade13@gmail.com, 4.4.7}], 0101018fa84481b2-14e21c30-f0f5-44d4-823a-a1acb2363c83-000000, dns; a27-202.smtp-out.us-west-2.amazonses.com, 2024-05-24T01:43:33.202Z}|null |null     |null    |Bounce   |null   |{{null, [Matchington mansion Turns 7! <MM@matchingtonmansion.com>], 0101018fa4eca9e4-b6200749-e9cb-4b62-b79e-7e56680155ce-000000, Wish on a star and blow out a candle - Matchington Mansion Turns 7!, null}, [shanade13@gmail.com], [{Content-Type, multipart/mixed; boundary=\"===============9067531344605765443==\"}, {MIME-Version, 1.0}, {List-Unsubscribe, <https://8ngevcqps4.execute-api.us-west-2.amazonaws.com/prod/unsubscribe?email_add=shanade13@gmail.com&sig=5c381d3741f1ae16834a98f6b8681dafb7fcffd8f272ffb103df6185b56ebd0f>, <mailto:unsubscribe@matchingtonmansion.com?subject=TopicUnsubscribe> }, {List-Unsubscribe-Post, List-Unsubscribe=One-Click}, {Subject, Wish on a star and blow out a candle - Matchington Mansion Turns 7!}, {From, Matchington mansion Turns 7! <MM@matchingtonmansion.com>}], false, 0101018fa4eca9e4-b6200749-e9cb-4b62-b79e-7e56680155ce-000000, 891377356308, Matchington mansion Turns 7! <MM@matchingtonmansion.com>, arn:aws:ses:us-west-2:891377356308:identity/matchingtonmansion.com, {null, [emailcustomchannel-role-rzneywn9], [hop], [matchingtonmansion.com], [SendRawEmail], null, [35.94.34.122], [TLSv1.3]}, 2024-05-23T10:08:44.516Z}                                                                                          |null|2024|05   |24 |shanade13@gmail.com|\n",
      "|{MailboxFull, Transient, [{failed, smtp; 554 4.4.7 Message expired: unable to deliver in 840 minutes.<452-4.2.2 The recipient's inbox is out of storage space. Please direct the<CRLF>452-4.2.2 recipient to<CRLF>452 4.2.2  https://support.google.com/mail/?p=OverQuotaTemp 41be03b00d2f7-6c35b40c329si9519218a12.600 - gsmtp>, shanade13@gmail.com, 4.4.7}], 0101018fe7aab7b5-26a4c757-e2aa-45f8-9ab8-d3471459ee15-000000, dns; a27-206.smtp-out.us-west-2.amazonses.com, 2024-06-05T09:11:16.252Z}                                                                                                                                                                                |null |null     |null    |Bounce   |null   |{{Tue, 4 Jun 2024 17:12:20 +0000, [Matchington mansion Turns 7! <MM@matchingtonmansion.com>], 0101018fe43ccaf0-11073add-d01d-4b48-8c41-0855e3a4a623-000000, Wish on a star and blow out a candle - Matchington Mansion Turns 7!, [shanade13@gmail.com]}, [shanade13@gmail.com], [{Date, Tue, 4 Jun 2024 17:12:20 +0000}, {From, Matchington mansion Turns 7! <MM@matchingtonmansion.com>}, {To, shanade13@gmail.com}, {Subject, Wish on a star and blow out a candle - Matchington Mansion Turns 7!}, {MIME-Version, 1.0}, {Content-Type, text/html; charset=UTF-8}, {Content-Transfer-Encoding, quoted-printable}, {List-Unsubscribe, <https://8ngevcqps4.execute-api.us-west-2.amazonaws.com/prod/unsubscribe?email_add=shanade13@gmail.com&sig=5c381d3741f1ae16834a98f6b8681dafb7fcffd8f272ffb103df6185b56ebd0f>,<mailto: unsubscribe@matchingtonmansion.com>}, {List-Unsubscribe-Post, List-Unsubscribe=One-Click}], false, 0101018fe43ccaf0-11073add-d01d-4b48-8c41-0855e3a4a623-000000, 891377356308, Matchington mansion Turns 7! <MM@matchingtonmansion.com>, arn:aws:ses:us-west-2:891377356308:identity/matchingtonmansion.com, {[2024-06-05-00-15-40], [sunbiao], [hop], [matchingtonmansion.com], [SendTemplatedEmail], null, [35.167.87.130], [TLSv1.3]}, 2024-06-04T17:12:20.464Z}|null|2024|06   |05 |shanade13@gmail.com|\n",
      "+--------------------------------------------------------------------------------------------------------------------------------------------------------------------------------------------------------------------------------------------------------------------------------------------------------------------------------------------------------------------------------------------------------------------------------------------------------------------------------------------------------------------------------------------------------------------------------------------------------------------------------------------------------------------------------------+-----+---------+--------+---------+-------+------------------------------------------------------------------------------------------------------------------------------------------------------------------------------------------------------------------------------------------------------------------------------------------------------------------------------------------------------------------------------------------------------------------------------------------------------------------------------------------------------------------------------------------------------------------------------------------------------------------------------------------------------------------------------------------------------------------------------------------------------------------------------------------------------------------------------------------------------------------------------------------------------------------------------------------------------------------------------------------------------------------------------------------------------------------------------------------------------------------------------------------------------------------------------------------------------------------------------------------------------------------------------------------------+----+----+-----+---+-------------------+\n",
      "\n"
     ]
    }
   ],
   "source": [
    "missing_df = filtered_withdate_df.withColumn(\"maildesc\",explode(\"mail.destination\")).where(col(\"maildesc\") == \"shanade13@gmail.com\")\n",
    "missing_df.show(truncate=False)"
   ]
  },
  {
   "cell_type": "code",
   "execution_count": 7,
   "metadata": {},
   "outputs": [
    {
     "name": "stdout",
     "output_type": "stream",
     "text": [
      "Calculation started (calculation_id=7cc80bf5-afd2-b6f8-a103-315101e55d3f) in (session=a8c80bf0-b6fb-acbb-d90f-800f58a0639c). Checking calculation status...\n"
     ]
    },
    {
     "data": {
      "application/vnd.jupyter.widget-view+json": {
       "model_id": "7ac74928c2e24feca15c4e5aed035b4b",
       "version_major": 2,
       "version_minor": 0
      },
      "text/plain": [
       "Progress:   0%|          |elapsed time = 00:00s"
      ]
     },
     "metadata": {},
     "output_type": "display_data"
    },
    {
     "name": "stdout",
     "output_type": "stream",
     "text": [
      "Calculation completed.\n",
      "+------------------------------+----------+\n",
      "|maildesc                      |type_count|\n",
      "+------------------------------+----------+\n",
      "|m-sachie517@ezweb.ne.jp       |2         |\n",
      "|galiji@mail.ru                |2         |\n",
      "|cdagostino@hispeed.ch         |2         |\n",
      "|madamemoore@hotmail.com       |2         |\n",
      "|juliannatoth@hotmail.com      |2         |\n",
      "|lordstar_84@hotmail.com       |2         |\n",
      "|brigitte_1960@live.fr         |2         |\n",
      "|tylerallen407@yahoo.com       |2         |\n",
      "|emmehern@tx.rr.com            |2         |\n",
      "|charito_na@hotmail.com        |2         |\n",
      "|broknwing176@me.com           |2         |\n",
      "|badi-82@mail.ru               |2         |\n",
      "|maria_louise_bom@hotmail.co.uk|2         |\n",
      "|clancyw@ozemail.com.au        |2         |\n",
      "|phoebechilds@hotmail.com      |2         |\n",
      "|cinzia.diddi@gruppodiddi.com  |2         |\n",
      "|jacquilinemclean@hotmail.com  |2         |\n",
      "|eva-1234@live.com             |2         |\n",
      "|a-j-wendlandt@hotmail.de      |2         |\n",
      "|meravturjeman@walla.com       |2         |\n",
      "+------------------------------+----------+\n",
      "only showing top 20 rows\n",
      "\n"
     ]
    }
   ],
   "source": [
    "tmp1_df = filtered_withdate_df.withColumn(\"maildesc\",explode(\"mail.destination\")).where((col(\"eventType\")==\"Bounce\") | (col(\"eventType\")==\"Delivery\"))\n",
    "result_df = tmp1_df.groupby(\"maildesc\").agg(count(col(\"eventType\")).alias(\"type_count\")) \\\n",
    ".where(col(\"type_count\")==2)\n",
    "result_df.show(truncate=False)"
   ]
  },
  {
   "cell_type": "code",
   "execution_count": 10,
   "metadata": {},
   "outputs": [
    {
     "name": "stdout",
     "output_type": "stream",
     "text": [
      "Calculation started (calculation_id=f6c80bff-c474-5147-005b-7921f248a5e6) in (session=a8c80bf0-b6fb-acbb-d90f-800f58a0639c). Checking calculation status...\n"
     ]
    },
    {
     "data": {
      "application/vnd.jupyter.widget-view+json": {
       "model_id": "9d8ac4779df0440d8d5d6e21215f846e",
       "version_major": 2,
       "version_minor": 0
      },
      "text/plain": [
       "Progress:   0%|          |elapsed time = 00:00s"
      ]
     },
     "metadata": {},
     "output_type": "display_data"
    },
    {
     "name": "stdout",
     "output_type": "stream",
     "text": [
      "Calculation completed.\n",
      "+--------------------------------------------------------------------------------------------------------------------------------------------------------------------------------------------------------------------------------------------------------------------------------------------------------------------------------------------------------------------------------------------------------------------------------------------------------------------------------------------------------------------------------------------------+-----+---------+-------------------------------------------------------------------------------------------------------------------------------------------------------------+---------+-------+-----------------------------------------------------------------------------------------------------------------------------------------------------------------------------------------------------------------------------------------------------------------------------------------------------------------------------------------------------------------------------------------------------------------------------------------------------------------------------------------------------------------------------------------------------------------------------------------------------------------------------------------------------------------------------------------------------------------------------------------------------------------------------------------------------------------------------------------------------------------------------------------------------------------------------------------------------------------------------------------------------------------------------------------------------------------------------------------------------------------------------------------------------------------------------------------------------------------------------------------------------------------------------------------------------------------------------------+-----------------------------------------------------------------------------------------------------------------------------------------------------------+----+-----+---+-------------------------+\n",
      "|bounce                                                                                                                                                                                                                                                                                                                                                                                                                                                                                                                                            |click|complaint|delivery                                                                                                                                                     |eventType|failure|mail                                                                                                                                                                                                                                                                                                                                                                                                                                                                                                                                                                                                                                                                                                                                                                                                                                                                                                                                                                                                                                                                                                                                                                                                                                                                                                                               |open                                                                                                                                                       |year|month|day|maildesc                 |\n",
      "+--------------------------------------------------------------------------------------------------------------------------------------------------------------------------------------------------------------------------------------------------------------------------------------------------------------------------------------------------------------------------------------------------------------------------------------------------------------------------------------------------------------------------------------------------+-----+---------+-------------------------------------------------------------------------------------------------------------------------------------------------------------+---------+-------+-----------------------------------------------------------------------------------------------------------------------------------------------------------------------------------------------------------------------------------------------------------------------------------------------------------------------------------------------------------------------------------------------------------------------------------------------------------------------------------------------------------------------------------------------------------------------------------------------------------------------------------------------------------------------------------------------------------------------------------------------------------------------------------------------------------------------------------------------------------------------------------------------------------------------------------------------------------------------------------------------------------------------------------------------------------------------------------------------------------------------------------------------------------------------------------------------------------------------------------------------------------------------------------------------------------------------------------+-----------------------------------------------------------------------------------------------------------------------------------------------------------+----+-----+---+-------------------------+\n",
      "|{General, Permanent, [{failed, smtp;550-5.1.1 The email account that you tried to reach does not exist. Please try\\r\\n 550-5.1.1 double-checking the recipient's email address for typos or\\r\\n 550-5.1.1 unnecessary spaces. For more information, go to\\r\\n 550 5.1.1  https://support.google.com/mail/?p=NoSuchUser d2e1a72fcca58-70242d591c4si6609621b3a.332 - gsmtp, jdesper@csu.fullerton.edu, 5.1.1}], 0101018fdeb01af1-758f2379-6de1-420e-a9d3-5e73465422a5-000000, dns;DM8PR08MB7317.namprd08.prod.outlook.com, 2024-06-03T15:20:34.470Z}|null |null     |null                                                                                                                                                         |Bounce   |null   |{{Mon, 3 Jun 2024 15:17:17 +0000, [Matchington mansion Turns 7! <MM@matchingtonmansion.com>], 0101018fdead1ac8-3eec8aac-85fb-4817-a8a7-f25a232d30a8-000000, Wish on a star and blow out a candle - Matchington Mansion Turns 7!, [jdesper@csu.fullerton.edu]}, [jdesper@csu.fullerton.edu], [{Date, Mon, 3 Jun 2024 15:17:17 +0000}, {From, Matchington mansion Turns 7! <MM@matchingtonmansion.com>}, {To, jdesper@csu.fullerton.edu}, {Subject, Wish on a star and blow out a candle - Matchington Mansion Turns 7!}, {MIME-Version, 1.0}, {Content-Type, text/html; charset=UTF-8}, {Content-Transfer-Encoding, quoted-printable}, {List-Unsubscribe, <https://8ngevcqps4.execute-api.us-west-2.amazonaws.com/prod/unsubscribe?email_add=jdesper@csu.fullerton.edu&sig=ad4faa1b5b0fdd6d9079ded61dea37a10011bf11be6c1621a930285d6bbd08b8>,<mailto: unsubscribe@matchingtonmansion.com>}, {List-Unsubscribe-Post, List-Unsubscribe=One-Click}], false, 0101018fdead1ac8-3eec8aac-85fb-4817-a8a7-f25a232d30a8-000000, 891377356308, Matchington mansion Turns 7! <MM@matchingtonmansion.com>, arn:aws:ses:us-west-2:891377356308:identity/matchingtonmansion.com, {[2024-06-03-23-05-41], [sunbiao], [hop], [matchingtonmansion.com], [SendTemplatedEmail], null, [35.167.87.130], [TLSv1.3]}, 2024-06-03T15:17:17.640Z}           |null                                                                                                                                                       |2024|06   |03 |jdesper@csu.fullerton.edu|\n",
      "|null                                                                                                                                                                                                                                                                                                                                                                                                                                                                                                                                              |null |null     |null                                                                                                                                                         |Send     |null   |{{null, [Matchington mansion Turns 7! <MM@matchingtonmansion.com>], 0101018fdead1ac8-3eec8aac-85fb-4817-a8a7-f25a232d30a8-000000, null, [jdesper@csu.fullerton.edu]}, [jdesper@csu.fullerton.edu], [{From, Matchington mansion Turns 7! <MM@matchingtonmansion.com>}, {To, jdesper@csu.fullerton.edu}, {List-Unsubscribe, <https://8ngevcqps4.execute-api.us-west-2.amazonaws.com/prod/unsubscribe?email_add=jdesper@csu.fullerton.edu&sig=ad4faa1b5b0fdd6d9079ded61dea37a10011bf11be6c1621a930285d6bbd08b8>,<mailto: unsubscribe@matchingtonmansion.com>}, {List-Unsubscribe-Post, List-Unsubscribe=One-Click}, {MIME-Version, 1.0}], false, 0101018fdead1ac8-3eec8aac-85fb-4817-a8a7-f25a232d30a8-000000, 891377356308, Matchington mansion Turns 7!<MM@matchingtonmansion.com>, null, {[2024-06-03-23-05-41], [sunbiao], [hop], [matchingtonmansion.com], [SendTemplatedEmail], null, [35.167.87.130], [TLSv1.3]}, 2024-06-03T15:17:17.640Z}                                                                                                                                                                                                                                                                                                                                                                                    |null                                                                                                                                                       |2024|06   |03 |jdesper@csu.fullerton.edu|\n",
      "|null                                                                                                                                                                                                                                                                                                                                                                                                                                                                                                                                              |null |null     |{1687, [jdesper@csu.fullerton.edu], a27-202.smtp-out.us-west-2.amazonses.com, 250 2.0.0 3yg2jbjhtg-1 Message accepted for delivery, 2024-06-03T15:17:19.327Z}|Delivery |null   |{{Mon, 3 Jun 2024 15:17:17 +0000, [Matchington mansion Turns 7! <MM@matchingtonmansion.com>], 0101018fdead1ac8-3eec8aac-85fb-4817-a8a7-f25a232d30a8-000000, Wish on a star and blow out a candle - Matchington Mansion Turns 7!, [jdesper@csu.fullerton.edu]}, [jdesper@csu.fullerton.edu], [{Date, Mon, 3 Jun 2024 15:17:17 +0000}, {From, Matchington mansion Turns 7! <MM@matchingtonmansion.com>}, {To, jdesper@csu.fullerton.edu}, {Subject, Wish on a star and blow out a candle - Matchington Mansion Turns 7!}, {MIME-Version, 1.0}, {Content-Type, text/html; charset=UTF-8}, {Content-Transfer-Encoding, quoted-printable}, {List-Unsubscribe, <https://8ngevcqps4.execute-api.us-west-2.amazonaws.com/prod/unsubscribe?email_add=jdesper@csu.fullerton.edu&sig=ad4faa1b5b0fdd6d9079ded61dea37a10011bf11be6c1621a930285d6bbd08b8>,<mailto: unsubscribe@matchingtonmansion.com>}, {List-Unsubscribe-Post, List-Unsubscribe=One-Click}], false, 0101018fdead1ac8-3eec8aac-85fb-4817-a8a7-f25a232d30a8-000000, 891377356308, Matchington mansion Turns 7! <MM@matchingtonmansion.com>, arn:aws:ses:us-west-2:891377356308:identity/matchingtonmansion.com, {[2024-06-03-23-05-41], [sunbiao], [hop], [matchingtonmansion.com], [SendTemplatedEmail], [54.240.27.202], [35.167.87.130], [TLSv1.3]}, 2024-06-03T15:17:17.640Z}|null                                                                                                                                                       |2024|06   |03 |jdesper@csu.fullerton.edu|\n",
      "|null                                                                                                                                                                                                                                                                                                                                                                                                                                                                                                                                              |null |null     |null                                                                                                                                                         |Open     |null   |{{Mon, 3 Jun 2024 15:17:17 +0000, [Matchington mansion Turns 7! <MM@matchingtonmansion.com>], 0101018fdead1ac8-3eec8aac-85fb-4817-a8a7-f25a232d30a8-000000, Wish on a star and blow out a candle - Matchington Mansion Turns 7!, [jdesper@csu.fullerton.edu]}, [jdesper@csu.fullerton.edu], [{Date, Mon, 3 Jun 2024 15:17:17 +0000}, {From, Matchington mansion Turns 7! <MM@matchingtonmansion.com>}, {To, jdesper@csu.fullerton.edu}, {Subject, Wish on a star and blow out a candle - Matchington Mansion Turns 7!}, {MIME-Version, 1.0}, {Content-Type, text/html; charset=UTF-8}, {Content-Transfer-Encoding, quoted-printable}, {List-Unsubscribe, <https://8ngevcqps4.execute-api.us-west-2.amazonaws.com/prod/unsubscribe?email_add=jdesper@csu.fullerton.edu&sig=ad4faa1b5b0fdd6d9079ded61dea37a10011bf11be6c1621a930285d6bbd08b8>,<mailto: unsubscribe@matchingtonmansion.com>}, {List-Unsubscribe-Post, List-Unsubscribe=One-Click}], false, 0101018fdead1ac8-3eec8aac-85fb-4817-a8a7-f25a232d30a8-000000, 891377356308, Matchington mansion Turns 7! <MM@matchingtonmansion.com>, null, {[2024-06-03-23-05-41], [sunbiao], [hop], [matchingtonmansion.com], [SendTemplatedEmail], null, [35.167.87.130], [TLSv1.3]}, 2024-06-03T15:17:17.640Z}                                                                         |{23.101.122.145, 2024-06-03T15:17:24.653Z, Mozilla/5.0 (Windows NT 10.0; Win64; x64) AppleWebKit/537.36 (KHTML, like Gecko) Chrome/109.0.0.0 Safari/537.36}|2024|06   |03 |jdesper@csu.fullerton.edu|\n",
      "+--------------------------------------------------------------------------------------------------------------------------------------------------------------------------------------------------------------------------------------------------------------------------------------------------------------------------------------------------------------------------------------------------------------------------------------------------------------------------------------------------------------------------------------------------+-----+---------+-------------------------------------------------------------------------------------------------------------------------------------------------------------+---------+-------+-----------------------------------------------------------------------------------------------------------------------------------------------------------------------------------------------------------------------------------------------------------------------------------------------------------------------------------------------------------------------------------------------------------------------------------------------------------------------------------------------------------------------------------------------------------------------------------------------------------------------------------------------------------------------------------------------------------------------------------------------------------------------------------------------------------------------------------------------------------------------------------------------------------------------------------------------------------------------------------------------------------------------------------------------------------------------------------------------------------------------------------------------------------------------------------------------------------------------------------------------------------------------------------------------------------------------------------+-----------------------------------------------------------------------------------------------------------------------------------------------------------+----+-----+---+-------------------------+\n",
      "\n"
     ]
    }
   ],
   "source": [
    "missing_df2 = filtered_withdate_df.withColumn(\"maildesc\",explode(\"mail.destination\")).where(col(\"maildesc\") == \"jdesper@csu.fullerton.edu\")\n",
    "missing_df2.show(truncate=False)"
   ]
  },
  {
   "cell_type": "code",
   "execution_count": null,
   "metadata": {},
   "outputs": [],
   "source": []
  }
 ],
 "metadata": {
  "kernelspec": {
   "display_name": "Athena PySpark",
   "language": "python",
   "name": "kepler_python_kernel"
  },
  "language_info": {
   "codemirror_mode": {
    "name": "python",
    "version": 3
   },
   "file_extension": ".py",
   "mimetype": "text/x-python",
   "name": "Python_Session",
   "pygments_lexer": "python3"
  }
 },
 "nbformat": 4,
 "nbformat_minor": 1
}
